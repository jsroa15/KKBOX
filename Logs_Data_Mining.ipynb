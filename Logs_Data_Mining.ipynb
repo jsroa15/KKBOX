{
  "nbformat": 4,
  "nbformat_minor": 0,
  "metadata": {
    "colab": {
      "name": "Logs Data Mining.ipynb",
      "provenance": [],
      "collapsed_sections": [],
      "mount_file_id": "1q7fgPXT4kn25X4jkHm_df6hMqeNBUnPQ",
      "authorship_tag": "ABX9TyNnsiBgGHBN0jf9x4zZVpfU",
      "include_colab_link": true
    },
    "kernelspec": {
      "display_name": "Python 3",
      "name": "python3"
    }
  },
  "cells": [
    {
      "cell_type": "markdown",
      "metadata": {
        "id": "view-in-github",
        "colab_type": "text"
      },
      "source": [
        "<a href=\"https://colab.research.google.com/github/jsroa15/KKBOX/blob/main/Logs_Data_Mining.ipynb\" target=\"_parent\"><img src=\"https://colab.research.google.com/assets/colab-badge.svg\" alt=\"Open In Colab\"/></a>"
      ]
    },
    {
      "cell_type": "code",
      "metadata": {
        "id": "N9ETjGw6hNKq"
      },
      "source": [
        "#Import\n",
        "\n",
        "import pandas as pd\n",
        "import matplotlib.pyplot as plt\n",
        "import seaborn as sns\n",
        "import numpy as np"
      ],
      "execution_count": 1,
      "outputs": []
    },
    {
      "cell_type": "code",
      "metadata": {
        "id": "PabGlapzhA5_"
      },
      "source": [
        "#Loading data\n",
        "\n",
        "logs=pd.read_csv('/content/drive/MyDrive/Colab Notebooks/KKBOX/logs.csv',nrows=30000000) #Only 30 million rows beacause of laptop memory"
      ],
      "execution_count": 2,
      "outputs": []
    },
    {
      "cell_type": "code",
      "metadata": {
        "id": "FSBCgGmU4yyX"
      },
      "source": [
        "#Explore data\n",
        "\n",
        "logs.head()\n",
        "\n",
        "#Drop first column\n",
        "\n",
        "logs.drop('Unnamed: 0',axis=1,inplace=True)"
      ],
      "execution_count": 3,
      "outputs": []
    },
    {
      "cell_type": "code",
      "metadata": {
        "colab": {
          "base_uri": "https://localhost:8080/"
        },
        "id": "7npwJ-Eekw0R",
        "outputId": "3c0b0d37-da02-4f18-9708-ccdf20b92796"
      },
      "source": [
        "#Datset info\n",
        "\n",
        "logs.info()"
      ],
      "execution_count": 4,
      "outputs": [
        {
          "output_type": "stream",
          "text": [
            "<class 'pandas.core.frame.DataFrame'>\n",
            "RangeIndex: 30000000 entries, 0 to 29999999\n",
            "Data columns (total 9 columns):\n",
            " #   Column      Dtype  \n",
            "---  ------      -----  \n",
            " 0   msno        object \n",
            " 1   date        int64  \n",
            " 2   num_25      int64  \n",
            " 3   num_50      int64  \n",
            " 4   num_75      int64  \n",
            " 5   num_985     int64  \n",
            " 6   num_100     int64  \n",
            " 7   num_unq     int64  \n",
            " 8   total_secs  float64\n",
            "dtypes: float64(1), int64(7), object(1)\n",
            "memory usage: 2.0+ GB\n"
          ],
          "name": "stdout"
        }
      ]
    },
    {
      "cell_type": "code",
      "metadata": {
        "colab": {
          "base_uri": "https://localhost:8080/",
          "height": 288
        },
        "id": "YAo_YgPq4UvG",
        "outputId": "acdc9fa3-1953-4e43-be1e-8f6bba39b93f"
      },
      "source": [
        "#Summary statistics\n",
        "\n",
        "logs.describe()\n"
      ],
      "execution_count": null,
      "outputs": [
        {
          "output_type": "execute_result",
          "data": {
            "text/html": [
              "<div>\n",
              "<style scoped>\n",
              "    .dataframe tbody tr th:only-of-type {\n",
              "        vertical-align: middle;\n",
              "    }\n",
              "\n",
              "    .dataframe tbody tr th {\n",
              "        vertical-align: top;\n",
              "    }\n",
              "\n",
              "    .dataframe thead th {\n",
              "        text-align: right;\n",
              "    }\n",
              "</style>\n",
              "<table border=\"1\" class=\"dataframe\">\n",
              "  <thead>\n",
              "    <tr style=\"text-align: right;\">\n",
              "      <th></th>\n",
              "      <th>date</th>\n",
              "      <th>num_25</th>\n",
              "      <th>num_50</th>\n",
              "      <th>num_75</th>\n",
              "      <th>num_985</th>\n",
              "      <th>num_100</th>\n",
              "      <th>num_unq</th>\n",
              "      <th>total_secs</th>\n",
              "    </tr>\n",
              "  </thead>\n",
              "  <tbody>\n",
              "    <tr>\n",
              "      <th>count</th>\n",
              "      <td>3.000000e+07</td>\n",
              "      <td>3.000000e+07</td>\n",
              "      <td>3.000000e+07</td>\n",
              "      <td>3.000000e+07</td>\n",
              "      <td>3.000000e+07</td>\n",
              "      <td>3.000000e+07</td>\n",
              "      <td>3.000000e+07</td>\n",
              "      <td>3.000000e+07</td>\n",
              "    </tr>\n",
              "    <tr>\n",
              "      <th>mean</th>\n",
              "      <td>2.015739e+07</td>\n",
              "      <td>6.509484e+00</td>\n",
              "      <td>1.640104e+00</td>\n",
              "      <td>1.016929e+00</td>\n",
              "      <td>1.129029e+00</td>\n",
              "      <td>3.071290e+01</td>\n",
              "      <td>3.007936e+01</td>\n",
              "      <td>-1.434526e+12</td>\n",
              "    </tr>\n",
              "    <tr>\n",
              "      <th>std</th>\n",
              "      <td>6.181196e+03</td>\n",
              "      <td>1.450417e+01</td>\n",
              "      <td>4.268034e+00</td>\n",
              "      <td>2.177151e+00</td>\n",
              "      <td>2.923620e+00</td>\n",
              "      <td>4.277029e+01</td>\n",
              "      <td>3.375265e+01</td>\n",
              "      <td>1.152648e+14</td>\n",
              "    </tr>\n",
              "    <tr>\n",
              "      <th>min</th>\n",
              "      <td>2.015010e+07</td>\n",
              "      <td>0.000000e+00</td>\n",
              "      <td>0.000000e+00</td>\n",
              "      <td>0.000000e+00</td>\n",
              "      <td>0.000000e+00</td>\n",
              "      <td>0.000000e+00</td>\n",
              "      <td>1.000000e+00</td>\n",
              "      <td>-9.223372e+15</td>\n",
              "    </tr>\n",
              "    <tr>\n",
              "      <th>25%</th>\n",
              "      <td>2.015082e+07</td>\n",
              "      <td>0.000000e+00</td>\n",
              "      <td>0.000000e+00</td>\n",
              "      <td>0.000000e+00</td>\n",
              "      <td>0.000000e+00</td>\n",
              "      <td>6.000000e+00</td>\n",
              "      <td>8.000000e+00</td>\n",
              "      <td>1.891120e+03</td>\n",
              "    </tr>\n",
              "    <tr>\n",
              "      <th>50%</th>\n",
              "      <td>2.016031e+07</td>\n",
              "      <td>2.000000e+00</td>\n",
              "      <td>1.000000e+00</td>\n",
              "      <td>0.000000e+00</td>\n",
              "      <td>0.000000e+00</td>\n",
              "      <td>1.700000e+01</td>\n",
              "      <td>1.900000e+01</td>\n",
              "      <td>4.626872e+03</td>\n",
              "    </tr>\n",
              "    <tr>\n",
              "      <th>75%</th>\n",
              "      <td>2.016091e+07</td>\n",
              "      <td>7.000000e+00</td>\n",
              "      <td>2.000000e+00</td>\n",
              "      <td>1.000000e+00</td>\n",
              "      <td>1.000000e+00</td>\n",
              "      <td>3.800000e+01</td>\n",
              "      <td>4.000000e+01</td>\n",
              "      <td>1.026319e+04</td>\n",
              "    </tr>\n",
              "    <tr>\n",
              "      <th>max</th>\n",
              "      <td>2.017023e+07</td>\n",
              "      <td>7.112000e+03</td>\n",
              "      <td>9.070000e+02</td>\n",
              "      <td>6.440000e+02</td>\n",
              "      <td>2.417000e+03</td>\n",
              "      <td>3.469600e+04</td>\n",
              "      <td>2.767000e+03</td>\n",
              "      <td>9.223372e+15</td>\n",
              "    </tr>\n",
              "  </tbody>\n",
              "</table>\n",
              "</div>"
            ],
            "text/plain": [
              "               date        num_25  ...       num_unq    total_secs\n",
              "count  3.000000e+07  3.000000e+07  ...  3.000000e+07  3.000000e+07\n",
              "mean   2.015739e+07  6.509484e+00  ...  3.007936e+01 -1.434526e+12\n",
              "std    6.181196e+03  1.450417e+01  ...  3.375265e+01  1.152648e+14\n",
              "min    2.015010e+07  0.000000e+00  ...  1.000000e+00 -9.223372e+15\n",
              "25%    2.015082e+07  0.000000e+00  ...  8.000000e+00  1.891120e+03\n",
              "50%    2.016031e+07  2.000000e+00  ...  1.900000e+01  4.626872e+03\n",
              "75%    2.016091e+07  7.000000e+00  ...  4.000000e+01  1.026319e+04\n",
              "max    2.017023e+07  7.112000e+03  ...  2.767000e+03  9.223372e+15\n",
              "\n",
              "[8 rows x 8 columns]"
            ]
          },
          "metadata": {
            "tags": []
          },
          "execution_count": 5
        }
      ]
    },
    {
      "cell_type": "code",
      "metadata": {
        "colab": {
          "base_uri": "https://localhost:8080/"
        },
        "id": "Fp5-lLZh7LN8",
        "outputId": "184b945f-1970-49ae-c79c-078228372419"
      },
      "source": [
        "#Checking missing values\n",
        "\n",
        "print(logs.isnull().sum())"
      ],
      "execution_count": null,
      "outputs": [
        {
          "output_type": "stream",
          "text": [
            "msno          0\n",
            "date          0\n",
            "num_25        0\n",
            "num_50        0\n",
            "num_75        0\n",
            "num_985       0\n",
            "num_100       0\n",
            "num_unq       0\n",
            "total_secs    0\n",
            "dtype: int64\n"
          ],
          "name": "stdout"
        }
      ]
    },
    {
      "cell_type": "code",
      "metadata": {
        "id": "U5TeezDN7RkI"
      },
      "source": [
        "#Change Date format in Transactions Data Frame\n",
        "\n",
        "logs.date=logs.date.astype('str')\n",
        "\n",
        "logs['date']=pd.to_datetime(logs.date,errors='coerce')"
      ],
      "execution_count": null,
      "outputs": []
    },
    {
      "cell_type": "code",
      "metadata": {
        "colab": {
          "base_uri": "https://localhost:8080/",
          "height": 198
        },
        "id": "NsKhoE944nt4",
        "outputId": "9fb19a9c-68d4-4a32-e00b-cd7777c79791"
      },
      "source": [
        "logs.head()"
      ],
      "execution_count": null,
      "outputs": [
        {
          "output_type": "execute_result",
          "data": {
            "text/html": [
              "<div>\n",
              "<style scoped>\n",
              "    .dataframe tbody tr th:only-of-type {\n",
              "        vertical-align: middle;\n",
              "    }\n",
              "\n",
              "    .dataframe tbody tr th {\n",
              "        vertical-align: top;\n",
              "    }\n",
              "\n",
              "    .dataframe thead th {\n",
              "        text-align: right;\n",
              "    }\n",
              "</style>\n",
              "<table border=\"1\" class=\"dataframe\">\n",
              "  <thead>\n",
              "    <tr style=\"text-align: right;\">\n",
              "      <th></th>\n",
              "      <th>msno</th>\n",
              "      <th>date</th>\n",
              "      <th>num_25</th>\n",
              "      <th>num_50</th>\n",
              "      <th>num_75</th>\n",
              "      <th>num_985</th>\n",
              "      <th>num_100</th>\n",
              "      <th>num_unq</th>\n",
              "      <th>total_secs</th>\n",
              "    </tr>\n",
              "  </thead>\n",
              "  <tbody>\n",
              "    <tr>\n",
              "      <th>0</th>\n",
              "      <td>rxIP2f2aN0rYNp+toI0Obt/N/FYQX8hcO1fTmmy2h34=</td>\n",
              "      <td>2015-05-13</td>\n",
              "      <td>0</td>\n",
              "      <td>0</td>\n",
              "      <td>0</td>\n",
              "      <td>0</td>\n",
              "      <td>1</td>\n",
              "      <td>1</td>\n",
              "      <td>280.335</td>\n",
              "    </tr>\n",
              "    <tr>\n",
              "      <th>1</th>\n",
              "      <td>rxIP2f2aN0rYNp+toI0Obt/N/FYQX8hcO1fTmmy2h34=</td>\n",
              "      <td>2015-07-09</td>\n",
              "      <td>9</td>\n",
              "      <td>1</td>\n",
              "      <td>0</td>\n",
              "      <td>0</td>\n",
              "      <td>7</td>\n",
              "      <td>11</td>\n",
              "      <td>1658.948</td>\n",
              "    </tr>\n",
              "    <tr>\n",
              "      <th>2</th>\n",
              "      <td>yxiEWwE9VR5utpUecLxVdQ5B7NysUPfrNtGINaM2zA8=</td>\n",
              "      <td>2015-01-05</td>\n",
              "      <td>3</td>\n",
              "      <td>3</td>\n",
              "      <td>0</td>\n",
              "      <td>0</td>\n",
              "      <td>68</td>\n",
              "      <td>36</td>\n",
              "      <td>17364.956</td>\n",
              "    </tr>\n",
              "    <tr>\n",
              "      <th>3</th>\n",
              "      <td>yxiEWwE9VR5utpUecLxVdQ5B7NysUPfrNtGINaM2zA8=</td>\n",
              "      <td>2015-03-06</td>\n",
              "      <td>1</td>\n",
              "      <td>0</td>\n",
              "      <td>1</td>\n",
              "      <td>1</td>\n",
              "      <td>97</td>\n",
              "      <td>27</td>\n",
              "      <td>24667.317</td>\n",
              "    </tr>\n",
              "    <tr>\n",
              "      <th>4</th>\n",
              "      <td>yxiEWwE9VR5utpUecLxVdQ5B7NysUPfrNtGINaM2zA8=</td>\n",
              "      <td>2015-05-01</td>\n",
              "      <td>3</td>\n",
              "      <td>0</td>\n",
              "      <td>0</td>\n",
              "      <td>0</td>\n",
              "      <td>38</td>\n",
              "      <td>38</td>\n",
              "      <td>9649.029</td>\n",
              "    </tr>\n",
              "  </tbody>\n",
              "</table>\n",
              "</div>"
            ],
            "text/plain": [
              "                                           msno       date  ...  num_unq  total_secs\n",
              "0  rxIP2f2aN0rYNp+toI0Obt/N/FYQX8hcO1fTmmy2h34= 2015-05-13  ...        1     280.335\n",
              "1  rxIP2f2aN0rYNp+toI0Obt/N/FYQX8hcO1fTmmy2h34= 2015-07-09  ...       11    1658.948\n",
              "2  yxiEWwE9VR5utpUecLxVdQ5B7NysUPfrNtGINaM2zA8= 2015-01-05  ...       36   17364.956\n",
              "3  yxiEWwE9VR5utpUecLxVdQ5B7NysUPfrNtGINaM2zA8= 2015-03-06  ...       27   24667.317\n",
              "4  yxiEWwE9VR5utpUecLxVdQ5B7NysUPfrNtGINaM2zA8= 2015-05-01  ...       38    9649.029\n",
              "\n",
              "[5 rows x 9 columns]"
            ]
          },
          "metadata": {
            "tags": []
          },
          "execution_count": 8
        }
      ]
    },
    {
      "cell_type": "code",
      "metadata": {
        "colab": {
          "base_uri": "https://localhost:8080/",
          "height": 35
        },
        "id": "1xywos2A8V8U",
        "outputId": "765ec788-23c3-4bc3-f459-8afe253688a1"
      },
      "source": [
        "#Exploratory data analysis with sweetviz\n",
        "\n",
        "#pip install sweetviz  #Install sweetviz\n",
        "'''\n",
        "import sweetviz as sv #Call sweetviz\n",
        "\n",
        "report_logs=sv.analyze(logs)\n",
        "report_logs.show_html('logs_EDA.html',open_browser=False)\n",
        "\n",
        "'''"
      ],
      "execution_count": null,
      "outputs": [
        {
          "output_type": "execute_result",
          "data": {
            "application/vnd.google.colaboratory.intrinsic+json": {
              "type": "string"
            },
            "text/plain": [
              "\"\\nimport sweetviz as sv #Call sweetviz\\n\\nreport_logs=sv.analyze(logs)\\nreport_logs.show_html('logs_EDA.html',open_browser=False)\\n\\n\""
            ]
          },
          "metadata": {
            "tags": []
          },
          "execution_count": 9
        }
      ]
    },
    {
      "cell_type": "code",
      "metadata": {
        "colab": {
          "base_uri": "https://localhost:8080/"
        },
        "id": "SMuG7dqVAecB",
        "outputId": "bf0b81d9-427c-48fc-9d13-82025e5df2f0"
      },
      "source": [
        "logs.msno.nunique()"
      ],
      "execution_count": null,
      "outputs": [
        {
          "output_type": "execute_result",
          "data": {
            "text/plain": [
              "1822947"
            ]
          },
          "metadata": {
            "tags": []
          },
          "execution_count": 10
        }
      ]
    },
    {
      "cell_type": "code",
      "metadata": {
        "colab": {
          "base_uri": "https://localhost:8080/"
        },
        "id": "dapaVOaUCMMA",
        "outputId": "1188a879-daf9-4b45-fe0f-7fc3561a8a96"
      },
      "source": [
        "#Calculate the percentile 99.98 for every feature\n",
        "\n",
        "columns=['num_25', 'num_50', 'num_75', 'num_985', 'num_100',\n",
        "       'num_unq', 'total_secs']\n",
        "for column in columns:\n",
        "  print(column,str(np.percentile(logs[column],99.98)),' ',logs[logs[column]>np.percentile(logs[column],99.98)].shape[0])"
      ],
      "execution_count": null,
      "outputs": [
        {
          "output_type": "stream",
          "text": [
            "num_25 256.0   5963\n",
            "num_50 96.0   5906\n",
            "num_75 43.0   5914\n",
            "num_985 68.0   5966\n",
            "num_100 496.0   5978\n",
            "num_unq 339.0   5944\n",
            "total_secs 101259.92242359927   6000\n"
          ],
          "name": "stdout"
        }
      ]
    },
    {
      "cell_type": "code",
      "metadata": {
        "colab": {
          "base_uri": "https://localhost:8080/"
        },
        "id": "yvwRtLVRF8kx",
        "outputId": "886e8313-5765-4a6d-a453-ac41471344e7"
      },
      "source": [
        "#Deleting Outliers\n",
        "\n",
        "temp=logs[(logs['num_25']<256)&(logs['num_50']<96)&(logs['num_75']<43)&(logs['num_985']<69)&(logs['num_100']<496)&(logs['num_unq']<464)]\n",
        "print(temp.shape[0])\n"
      ],
      "execution_count": null,
      "outputs": [
        {
          "output_type": "stream",
          "text": [
            "29972504\n"
          ],
          "name": "stdout"
        }
      ]
    },
    {
      "cell_type": "code",
      "metadata": {
        "colab": {
          "base_uri": "https://localhost:8080/"
        },
        "id": "xOWYYtH5uGsp",
        "outputId": "ca13af1e-28f5-4931-a5e7-1ce72a0d4de9"
      },
      "source": [
        "#Create a new feature: Total_hours\n",
        "\n",
        "temp['total_hours']=temp.total_secs/3600"
      ],
      "execution_count": null,
      "outputs": [
        {
          "output_type": "stream",
          "text": [
            "/usr/local/lib/python3.6/dist-packages/ipykernel_launcher.py:3: SettingWithCopyWarning: \n",
            "A value is trying to be set on a copy of a slice from a DataFrame.\n",
            "Try using .loc[row_indexer,col_indexer] = value instead\n",
            "\n",
            "See the caveats in the documentation: https://pandas.pydata.org/pandas-docs/stable/user_guide/indexing.html#returning-a-view-versus-a-copy\n",
            "  This is separate from the ipykernel package so we can avoid doing imports until\n"
          ],
          "name": "stderr"
        }
      ]
    },
    {
      "cell_type": "code",
      "metadata": {
        "colab": {
          "base_uri": "https://localhost:8080/"
        },
        "id": "79Z0nhmQ-r9w",
        "outputId": "9f25193b-e053-436f-f074-4626e2c79f2f"
      },
      "source": [
        "#Analizing total_hours\n",
        "\n",
        "print(temp[temp['total_hours']<0].shape[0])\n",
        "\n",
        "print(temp[temp['total_hours']<0].head())"
      ],
      "execution_count": null,
      "outputs": [
        {
          "output_type": "stream",
          "text": [
            "4656\n",
            "                                               msno  ...   total_hours\n",
            "4497   8x6zMayYaSYhXQkZhD+YeBI0oNphdou+ODBpbtJpvBQ=  ... -2.562048e+12\n",
            "5730   BtZTCXLQ0MvrlsosU/NsJabEZiz8JJz/rAfqjoGgxs8=  ... -2.562048e+12\n",
            "11600  XoJGWnX0RN5ZUvUTG98Ldj3vlRXNQ3hhIQ1ei63oG7k=  ... -2.562048e+12\n",
            "11750  NnLgT9VXBXCyhubkMQirm1Ns+xjiq+4v6zHmbaxfd+Y=  ... -2.562048e+12\n",
            "12969  zCKbAfdXVRoZGSlmLPxQNwL7j9Lea1BbxdmU42SfJxc=  ... -2.562048e+12\n",
            "\n",
            "[5 rows x 10 columns]\n"
          ],
          "name": "stdout"
        }
      ]
    },
    {
      "cell_type": "code",
      "metadata": {
        "colab": {
          "base_uri": "https://localhost:8080/"
        },
        "id": "SLs6WCyWCeL7",
        "outputId": "b56d7ca0-144b-426a-e8b1-1e56acc9a47e"
      },
      "source": [
        "#Amount of rows with total hours > 24\n",
        "temp[temp['total_hours']>24].shape[0]"
      ],
      "execution_count": null,
      "outputs": [
        {
          "output_type": "execute_result",
          "data": {
            "text/plain": [
              "6951"
            ]
          },
          "metadata": {
            "tags": []
          },
          "execution_count": 15
        }
      ]
    },
    {
      "cell_type": "code",
      "metadata": {
        "colab": {
          "base_uri": "https://localhost:8080/"
        },
        "id": "Cz-k64bhAOee",
        "outputId": "ad3a51c8-3016-4b6c-9d34-54ff99bc1f22"
      },
      "source": [
        "#Filtering the data based on total hours (Only positive and less than or equal to 24)\n",
        "\n",
        "temp=temp[(temp['total_hours']>0)&(temp['total_hours']<=24)]\n",
        "\n",
        "#Checking shape\n",
        "\n",
        "temp.shape[0]"
      ],
      "execution_count": null,
      "outputs": [
        {
          "output_type": "execute_result",
          "data": {
            "text/plain": [
              "29960897"
            ]
          },
          "metadata": {
            "tags": []
          },
          "execution_count": 16
        }
      ]
    },
    {
      "cell_type": "code",
      "metadata": {
        "colab": {
          "base_uri": "https://localhost:8080/",
          "height": 288
        },
        "id": "gN0OU6G-FmJl",
        "outputId": "732beca1-b932-4f63-e246-cc26b45fa510"
      },
      "source": [
        "temp.describe()"
      ],
      "execution_count": null,
      "outputs": [
        {
          "output_type": "execute_result",
          "data": {
            "text/html": [
              "<div>\n",
              "<style scoped>\n",
              "    .dataframe tbody tr th:only-of-type {\n",
              "        vertical-align: middle;\n",
              "    }\n",
              "\n",
              "    .dataframe tbody tr th {\n",
              "        vertical-align: top;\n",
              "    }\n",
              "\n",
              "    .dataframe thead th {\n",
              "        text-align: right;\n",
              "    }\n",
              "</style>\n",
              "<table border=\"1\" class=\"dataframe\">\n",
              "  <thead>\n",
              "    <tr style=\"text-align: right;\">\n",
              "      <th></th>\n",
              "      <th>num_25</th>\n",
              "      <th>num_50</th>\n",
              "      <th>num_75</th>\n",
              "      <th>num_985</th>\n",
              "      <th>num_100</th>\n",
              "      <th>num_unq</th>\n",
              "      <th>total_secs</th>\n",
              "      <th>total_hours</th>\n",
              "    </tr>\n",
              "  </thead>\n",
              "  <tbody>\n",
              "    <tr>\n",
              "      <th>count</th>\n",
              "      <td>2.996090e+07</td>\n",
              "      <td>2.996090e+07</td>\n",
              "      <td>2.996090e+07</td>\n",
              "      <td>2.996090e+07</td>\n",
              "      <td>2.996090e+07</td>\n",
              "      <td>2.996090e+07</td>\n",
              "      <td>2.996090e+07</td>\n",
              "      <td>2.996090e+07</td>\n",
              "    </tr>\n",
              "    <tr>\n",
              "      <th>mean</th>\n",
              "      <td>6.404721e+00</td>\n",
              "      <td>1.600706e+00</td>\n",
              "      <td>9.977453e-01</td>\n",
              "      <td>1.101384e+00</td>\n",
              "      <td>3.046175e+01</td>\n",
              "      <td>2.987853e+01</td>\n",
              "      <td>8.054167e+03</td>\n",
              "      <td>2.237269e+00</td>\n",
              "    </tr>\n",
              "    <tr>\n",
              "      <th>std</th>\n",
              "      <td>1.259704e+01</td>\n",
              "      <td>3.581458e+00</td>\n",
              "      <td>1.842117e+00</td>\n",
              "      <td>2.225149e+00</td>\n",
              "      <td>3.909793e+01</td>\n",
              "      <td>3.287497e+01</td>\n",
              "      <td>9.658737e+03</td>\n",
              "      <td>2.682982e+00</td>\n",
              "    </tr>\n",
              "    <tr>\n",
              "      <th>min</th>\n",
              "      <td>0.000000e+00</td>\n",
              "      <td>0.000000e+00</td>\n",
              "      <td>0.000000e+00</td>\n",
              "      <td>0.000000e+00</td>\n",
              "      <td>0.000000e+00</td>\n",
              "      <td>1.000000e+00</td>\n",
              "      <td>1.000000e-03</td>\n",
              "      <td>2.777778e-07</td>\n",
              "    </tr>\n",
              "    <tr>\n",
              "      <th>25%</th>\n",
              "      <td>0.000000e+00</td>\n",
              "      <td>0.000000e+00</td>\n",
              "      <td>0.000000e+00</td>\n",
              "      <td>0.000000e+00</td>\n",
              "      <td>6.000000e+00</td>\n",
              "      <td>8.000000e+00</td>\n",
              "      <td>1.889828e+03</td>\n",
              "      <td>5.249522e-01</td>\n",
              "    </tr>\n",
              "    <tr>\n",
              "      <th>50%</th>\n",
              "      <td>2.000000e+00</td>\n",
              "      <td>1.000000e+00</td>\n",
              "      <td>0.000000e+00</td>\n",
              "      <td>0.000000e+00</td>\n",
              "      <td>1.700000e+01</td>\n",
              "      <td>1.900000e+01</td>\n",
              "      <td>4.620161e+03</td>\n",
              "      <td>1.283378e+00</td>\n",
              "    </tr>\n",
              "    <tr>\n",
              "      <th>75%</th>\n",
              "      <td>7.000000e+00</td>\n",
              "      <td>2.000000e+00</td>\n",
              "      <td>1.000000e+00</td>\n",
              "      <td>1.000000e+00</td>\n",
              "      <td>3.800000e+01</td>\n",
              "      <td>4.000000e+01</td>\n",
              "      <td>1.023421e+04</td>\n",
              "      <td>2.842835e+00</td>\n",
              "    </tr>\n",
              "    <tr>\n",
              "      <th>max</th>\n",
              "      <td>2.550000e+02</td>\n",
              "      <td>9.500000e+01</td>\n",
              "      <td>4.200000e+01</td>\n",
              "      <td>6.800000e+01</td>\n",
              "      <td>4.950000e+02</td>\n",
              "      <td>4.610000e+02</td>\n",
              "      <td>8.640000e+04</td>\n",
              "      <td>2.400000e+01</td>\n",
              "    </tr>\n",
              "  </tbody>\n",
              "</table>\n",
              "</div>"
            ],
            "text/plain": [
              "             num_25        num_50  ...    total_secs   total_hours\n",
              "count  2.996090e+07  2.996090e+07  ...  2.996090e+07  2.996090e+07\n",
              "mean   6.404721e+00  1.600706e+00  ...  8.054167e+03  2.237269e+00\n",
              "std    1.259704e+01  3.581458e+00  ...  9.658737e+03  2.682982e+00\n",
              "min    0.000000e+00  0.000000e+00  ...  1.000000e-03  2.777778e-07\n",
              "25%    0.000000e+00  0.000000e+00  ...  1.889828e+03  5.249522e-01\n",
              "50%    2.000000e+00  1.000000e+00  ...  4.620161e+03  1.283378e+00\n",
              "75%    7.000000e+00  2.000000e+00  ...  1.023421e+04  2.842835e+00\n",
              "max    2.550000e+02  9.500000e+01  ...  8.640000e+04  2.400000e+01\n",
              "\n",
              "[8 rows x 8 columns]"
            ]
          },
          "metadata": {
            "tags": []
          },
          "execution_count": 17
        }
      ]
    },
    {
      "cell_type": "code",
      "metadata": {
        "id": "tjh29KNRHIw2"
      },
      "source": [
        "#Defining the logs data frame grouped by user\n",
        "\n",
        "df_logs=temp.groupby(by='msno').mean()"
      ],
      "execution_count": null,
      "outputs": []
    },
    {
      "cell_type": "code",
      "metadata": {
        "id": "WJ1Fo_dIIWgC"
      },
      "source": [
        "#Exporting df_logs\n",
        "\n",
        "df_logs.to_csv('/content/drive/MyDrive/Colab Notebooks/KKBOX/df_logs.csv',index=False)"
      ],
      "execution_count": null,
      "outputs": []
    }
  ]
}