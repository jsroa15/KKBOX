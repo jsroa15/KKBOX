{
  "nbformat": 4,
  "nbformat_minor": 0,
  "metadata": {
    "colab": {
      "name": "Transactions data mining.ipynb",
      "provenance": [],
      "collapsed_sections": [],
      "toc_visible": true,
      "mount_file_id": "1FTo6lU6do764fizBN7-GHtlUAI_4f7zG",
      "authorship_tag": "ABX9TyN6oUOI+zhXiUf4+AddEZ10",
      "include_colab_link": true
    },
    "kernelspec": {
      "name": "python3",
      "display_name": "Python 3"
    }
  },
  "cells": [
    {
      "cell_type": "markdown",
      "metadata": {
        "id": "view-in-github",
        "colab_type": "text"
      },
      "source": [
        "<a href=\"https://colab.research.google.com/github/jsroa15/KKBOX/blob/main/Transactions_data_mining.ipynb\" target=\"_parent\"><img src=\"https://colab.research.google.com/assets/colab-badge.svg\" alt=\"Open In Colab\"/></a>"
      ]
    },
    {
      "cell_type": "markdown",
      "metadata": {
        "id": "Z-CFfBRvxXMv"
      },
      "source": [
        "# Transactions data\r\n",
        "\r\n",
        "The main idea here is to explore the transactions dataset.\r\n",
        "\r\n",
        "**Exploratory Data Analysis**\r\n",
        "\r\n",
        "1.  Load data\r\n",
        "2.  General statistics\r\n",
        "3.  Data Visualization\r\n",
        "4.  Data Cleaning\r\n",
        "5.  Fixing formats\r\n",
        "\r\n",
        "**Feature Engineering**\r\n",
        "\r\n",
        "6.  Create new features (Grouping, interactions, binning, extracting dates)\r\n"
      ]
    },
    {
      "cell_type": "markdown",
      "metadata": {
        "id": "puokBFHdxel8"
      },
      "source": [
        "# **Exploratory Data Analysis**\r\n"
      ]
    },
    {
      "cell_type": "markdown",
      "metadata": {
        "id": "zTvslq2CyGoK"
      },
      "source": [
        "## 1. Load Data"
      ]
    },
    {
      "cell_type": "code",
      "metadata": {
        "id": "uI8HP4hNkW_V"
      },
      "source": [
        "#Import\n",
        "\n",
        "import pandas as pd\n",
        "import matplotlib.pyplot as plt\n",
        "import seaborn as sns\n",
        "import numpy as np"
      ],
      "execution_count": 1,
      "outputs": []
    },
    {
      "cell_type": "code",
      "metadata": {
        "id": "XC3mEl_dktIz"
      },
      "source": [
        "#Loading data\n",
        "\n",
        "transactions=pd.read_csv('/content/drive/MyDrive/Colab Notebooks/KKBOX/transactions.csv')"
      ],
      "execution_count": 2,
      "outputs": []
    },
    {
      "cell_type": "markdown",
      "metadata": {
        "id": "1acrRXhAyPHI"
      },
      "source": [
        "## 2. General Statistics"
      ]
    },
    {
      "cell_type": "code",
      "metadata": {
        "colab": {
          "base_uri": "https://localhost:8080/",
          "height": 204
        },
        "id": "55UPM11GyX-t",
        "outputId": "14336662-ebc7-42bc-a28d-34922805f614"
      },
      "source": [
        "#Exploring dataset\r\n",
        "\r\n",
        "transactions.head()"
      ],
      "execution_count": 3,
      "outputs": [
        {
          "output_type": "execute_result",
          "data": {
            "text/html": [
              "<div>\n",
              "<style scoped>\n",
              "    .dataframe tbody tr th:only-of-type {\n",
              "        vertical-align: middle;\n",
              "    }\n",
              "\n",
              "    .dataframe tbody tr th {\n",
              "        vertical-align: top;\n",
              "    }\n",
              "\n",
              "    .dataframe thead th {\n",
              "        text-align: right;\n",
              "    }\n",
              "</style>\n",
              "<table border=\"1\" class=\"dataframe\">\n",
              "  <thead>\n",
              "    <tr style=\"text-align: right;\">\n",
              "      <th></th>\n",
              "      <th>msno</th>\n",
              "      <th>payment_method_id</th>\n",
              "      <th>payment_plan_days</th>\n",
              "      <th>plan_list_price</th>\n",
              "      <th>actual_amount_paid</th>\n",
              "      <th>is_auto_renew</th>\n",
              "      <th>transaction_date</th>\n",
              "      <th>membership_expire_date</th>\n",
              "      <th>is_cancel</th>\n",
              "    </tr>\n",
              "  </thead>\n",
              "  <tbody>\n",
              "    <tr>\n",
              "      <th>0</th>\n",
              "      <td>YyO+tlZtAXYXoZhNr3Vg3+dfVQvrBVGO8j1mfqe4ZHc=</td>\n",
              "      <td>41</td>\n",
              "      <td>30</td>\n",
              "      <td>129</td>\n",
              "      <td>129</td>\n",
              "      <td>1</td>\n",
              "      <td>20150930</td>\n",
              "      <td>20151101</td>\n",
              "      <td>0</td>\n",
              "    </tr>\n",
              "    <tr>\n",
              "      <th>1</th>\n",
              "      <td>AZtu6Wl0gPojrEQYB8Q3vBSmE2wnZ3hi1FbK1rQQ0A4=</td>\n",
              "      <td>41</td>\n",
              "      <td>30</td>\n",
              "      <td>149</td>\n",
              "      <td>149</td>\n",
              "      <td>1</td>\n",
              "      <td>20150930</td>\n",
              "      <td>20151031</td>\n",
              "      <td>0</td>\n",
              "    </tr>\n",
              "    <tr>\n",
              "      <th>2</th>\n",
              "      <td>UkDFI97Qb6+s2LWcijVVv4rMAsORbVDT2wNXF0aVbns=</td>\n",
              "      <td>41</td>\n",
              "      <td>30</td>\n",
              "      <td>129</td>\n",
              "      <td>129</td>\n",
              "      <td>1</td>\n",
              "      <td>20150930</td>\n",
              "      <td>20160427</td>\n",
              "      <td>0</td>\n",
              "    </tr>\n",
              "    <tr>\n",
              "      <th>3</th>\n",
              "      <td>M1C56ijxozNaGD0t2h68PnH2xtx5iO5iR2MVYQB6nBI=</td>\n",
              "      <td>39</td>\n",
              "      <td>30</td>\n",
              "      <td>149</td>\n",
              "      <td>149</td>\n",
              "      <td>1</td>\n",
              "      <td>20150930</td>\n",
              "      <td>20151128</td>\n",
              "      <td>0</td>\n",
              "    </tr>\n",
              "    <tr>\n",
              "      <th>4</th>\n",
              "      <td>yvj6zyBUaqdbUQSrKsrZ+xNDVM62knauSZJzakS9OW4=</td>\n",
              "      <td>39</td>\n",
              "      <td>30</td>\n",
              "      <td>149</td>\n",
              "      <td>149</td>\n",
              "      <td>1</td>\n",
              "      <td>20150930</td>\n",
              "      <td>20151121</td>\n",
              "      <td>0</td>\n",
              "    </tr>\n",
              "  </tbody>\n",
              "</table>\n",
              "</div>"
            ],
            "text/plain": [
              "                                           msno  ...  is_cancel\n",
              "0  YyO+tlZtAXYXoZhNr3Vg3+dfVQvrBVGO8j1mfqe4ZHc=  ...          0\n",
              "1  AZtu6Wl0gPojrEQYB8Q3vBSmE2wnZ3hi1FbK1rQQ0A4=  ...          0\n",
              "2  UkDFI97Qb6+s2LWcijVVv4rMAsORbVDT2wNXF0aVbns=  ...          0\n",
              "3  M1C56ijxozNaGD0t2h68PnH2xtx5iO5iR2MVYQB6nBI=  ...          0\n",
              "4  yvj6zyBUaqdbUQSrKsrZ+xNDVM62knauSZJzakS9OW4=  ...          0\n",
              "\n",
              "[5 rows x 9 columns]"
            ]
          },
          "metadata": {
            "tags": []
          },
          "execution_count": 3
        }
      ]
    },
    {
      "cell_type": "code",
      "metadata": {
        "colab": {
          "base_uri": "https://localhost:8080/"
        },
        "id": "mpDALYIpybVq",
        "outputId": "54052898-65ae-47fa-bc21-cbcf69d9b4ab"
      },
      "source": [
        "#Data types\r\n",
        "\r\n",
        "transactions.info()"
      ],
      "execution_count": 4,
      "outputs": [
        {
          "output_type": "stream",
          "text": [
            "<class 'pandas.core.frame.DataFrame'>\n",
            "RangeIndex: 21547746 entries, 0 to 21547745\n",
            "Data columns (total 9 columns):\n",
            " #   Column                  Dtype \n",
            "---  ------                  ----- \n",
            " 0   msno                    object\n",
            " 1   payment_method_id       int64 \n",
            " 2   payment_plan_days       int64 \n",
            " 3   plan_list_price         int64 \n",
            " 4   actual_amount_paid      int64 \n",
            " 5   is_auto_renew           int64 \n",
            " 6   transaction_date        int64 \n",
            " 7   membership_expire_date  int64 \n",
            " 8   is_cancel               int64 \n",
            "dtypes: int64(8), object(1)\n",
            "memory usage: 1.4+ GB\n"
          ],
          "name": "stdout"
        }
      ]
    },
    {
      "cell_type": "markdown",
      "metadata": {
        "id": "l3IKkTiDyjcR"
      },
      "source": [
        "Date features are with the wrong format and categorical features are with numeric formats."
      ]
    },
    {
      "cell_type": "code",
      "metadata": {
        "colab": {
          "base_uri": "https://localhost:8080/"
        },
        "id": "KSQozgrkW0LZ",
        "outputId": "f1bbce6a-1688-4063-89e3-eb531749a780"
      },
      "source": [
        "#Shape and unique values\r\n",
        "print('Shape of dataset: ',transactions.shape)\r\n",
        "\r\n",
        "print('Amount of unique records: ',transactions.msno.nunique())"
      ],
      "execution_count": 5,
      "outputs": [
        {
          "output_type": "stream",
          "text": [
            "Shape of dataset:  (21547746, 9)\n",
            "Amount of unique records:  2363626\n"
          ],
          "name": "stdout"
        }
      ]
    },
    {
      "cell_type": "markdown",
      "metadata": {
        "id": "1F8tATiv8GMd"
      },
      "source": [
        "We have duplicated records, which means that we have differente records for every customers. Let's explore one customer."
      ]
    },
    {
      "cell_type": "code",
      "metadata": {
        "colab": {
          "base_uri": "https://localhost:8080/",
          "height": 844
        },
        "id": "2kTkHXTC-YhB",
        "outputId": "8d57c48a-1b2d-404e-fb0c-c5f0c93b82f2"
      },
      "source": [
        "transactions[transactions['msno']=='YyO+tlZtAXYXoZhNr3Vg3+dfVQvrBVGO8j1mfqe4ZHc=']"
      ],
      "execution_count": 6,
      "outputs": [
        {
          "output_type": "execute_result",
          "data": {
            "text/html": [
              "<div>\n",
              "<style scoped>\n",
              "    .dataframe tbody tr th:only-of-type {\n",
              "        vertical-align: middle;\n",
              "    }\n",
              "\n",
              "    .dataframe tbody tr th {\n",
              "        vertical-align: top;\n",
              "    }\n",
              "\n",
              "    .dataframe thead th {\n",
              "        text-align: right;\n",
              "    }\n",
              "</style>\n",
              "<table border=\"1\" class=\"dataframe\">\n",
              "  <thead>\n",
              "    <tr style=\"text-align: right;\">\n",
              "      <th></th>\n",
              "      <th>msno</th>\n",
              "      <th>payment_method_id</th>\n",
              "      <th>payment_plan_days</th>\n",
              "      <th>plan_list_price</th>\n",
              "      <th>actual_amount_paid</th>\n",
              "      <th>is_auto_renew</th>\n",
              "      <th>transaction_date</th>\n",
              "      <th>membership_expire_date</th>\n",
              "      <th>is_cancel</th>\n",
              "    </tr>\n",
              "  </thead>\n",
              "  <tbody>\n",
              "    <tr>\n",
              "      <th>0</th>\n",
              "      <td>YyO+tlZtAXYXoZhNr3Vg3+dfVQvrBVGO8j1mfqe4ZHc=</td>\n",
              "      <td>41</td>\n",
              "      <td>30</td>\n",
              "      <td>129</td>\n",
              "      <td>129</td>\n",
              "      <td>1</td>\n",
              "      <td>20150930</td>\n",
              "      <td>20151101</td>\n",
              "      <td>0</td>\n",
              "    </tr>\n",
              "    <tr>\n",
              "      <th>753139</th>\n",
              "      <td>YyO+tlZtAXYXoZhNr3Vg3+dfVQvrBVGO8j1mfqe4ZHc=</td>\n",
              "      <td>41</td>\n",
              "      <td>30</td>\n",
              "      <td>129</td>\n",
              "      <td>129</td>\n",
              "      <td>1</td>\n",
              "      <td>20151031</td>\n",
              "      <td>20151201</td>\n",
              "      <td>0</td>\n",
              "    </tr>\n",
              "    <tr>\n",
              "      <th>1234428</th>\n",
              "      <td>YyO+tlZtAXYXoZhNr3Vg3+dfVQvrBVGO8j1mfqe4ZHc=</td>\n",
              "      <td>41</td>\n",
              "      <td>30</td>\n",
              "      <td>129</td>\n",
              "      <td>129</td>\n",
              "      <td>1</td>\n",
              "      <td>20150630</td>\n",
              "      <td>20150801</td>\n",
              "      <td>0</td>\n",
              "    </tr>\n",
              "    <tr>\n",
              "      <th>1917887</th>\n",
              "      <td>YyO+tlZtAXYXoZhNr3Vg3+dfVQvrBVGO8j1mfqe4ZHc=</td>\n",
              "      <td>41</td>\n",
              "      <td>30</td>\n",
              "      <td>129</td>\n",
              "      <td>129</td>\n",
              "      <td>1</td>\n",
              "      <td>20150228</td>\n",
              "      <td>20150401</td>\n",
              "      <td>0</td>\n",
              "    </tr>\n",
              "    <tr>\n",
              "      <th>1957479</th>\n",
              "      <td>YyO+tlZtAXYXoZhNr3Vg3+dfVQvrBVGO8j1mfqe4ZHc=</td>\n",
              "      <td>41</td>\n",
              "      <td>30</td>\n",
              "      <td>129</td>\n",
              "      <td>129</td>\n",
              "      <td>1</td>\n",
              "      <td>20161130</td>\n",
              "      <td>20170101</td>\n",
              "      <td>0</td>\n",
              "    </tr>\n",
              "    <tr>\n",
              "      <th>3482816</th>\n",
              "      <td>YyO+tlZtAXYXoZhNr3Vg3+dfVQvrBVGO8j1mfqe4ZHc=</td>\n",
              "      <td>41</td>\n",
              "      <td>30</td>\n",
              "      <td>129</td>\n",
              "      <td>129</td>\n",
              "      <td>1</td>\n",
              "      <td>20150731</td>\n",
              "      <td>20150901</td>\n",
              "      <td>0</td>\n",
              "    </tr>\n",
              "    <tr>\n",
              "      <th>5413134</th>\n",
              "      <td>YyO+tlZtAXYXoZhNr3Vg3+dfVQvrBVGO8j1mfqe4ZHc=</td>\n",
              "      <td>41</td>\n",
              "      <td>30</td>\n",
              "      <td>129</td>\n",
              "      <td>129</td>\n",
              "      <td>1</td>\n",
              "      <td>20160430</td>\n",
              "      <td>20160601</td>\n",
              "      <td>0</td>\n",
              "    </tr>\n",
              "    <tr>\n",
              "      <th>7106202</th>\n",
              "      <td>YyO+tlZtAXYXoZhNr3Vg3+dfVQvrBVGO8j1mfqe4ZHc=</td>\n",
              "      <td>41</td>\n",
              "      <td>30</td>\n",
              "      <td>129</td>\n",
              "      <td>129</td>\n",
              "      <td>1</td>\n",
              "      <td>20160731</td>\n",
              "      <td>20160901</td>\n",
              "      <td>0</td>\n",
              "    </tr>\n",
              "    <tr>\n",
              "      <th>7619099</th>\n",
              "      <td>YyO+tlZtAXYXoZhNr3Vg3+dfVQvrBVGO8j1mfqe4ZHc=</td>\n",
              "      <td>41</td>\n",
              "      <td>30</td>\n",
              "      <td>129</td>\n",
              "      <td>129</td>\n",
              "      <td>1</td>\n",
              "      <td>20150131</td>\n",
              "      <td>20150301</td>\n",
              "      <td>0</td>\n",
              "    </tr>\n",
              "    <tr>\n",
              "      <th>10161584</th>\n",
              "      <td>YyO+tlZtAXYXoZhNr3Vg3+dfVQvrBVGO8j1mfqe4ZHc=</td>\n",
              "      <td>41</td>\n",
              "      <td>30</td>\n",
              "      <td>129</td>\n",
              "      <td>129</td>\n",
              "      <td>1</td>\n",
              "      <td>20160831</td>\n",
              "      <td>20161001</td>\n",
              "      <td>0</td>\n",
              "    </tr>\n",
              "    <tr>\n",
              "      <th>11469481</th>\n",
              "      <td>YyO+tlZtAXYXoZhNr3Vg3+dfVQvrBVGO8j1mfqe4ZHc=</td>\n",
              "      <td>41</td>\n",
              "      <td>30</td>\n",
              "      <td>129</td>\n",
              "      <td>129</td>\n",
              "      <td>1</td>\n",
              "      <td>20160131</td>\n",
              "      <td>20160301</td>\n",
              "      <td>0</td>\n",
              "    </tr>\n",
              "    <tr>\n",
              "      <th>12185981</th>\n",
              "      <td>YyO+tlZtAXYXoZhNr3Vg3+dfVQvrBVGO8j1mfqe4ZHc=</td>\n",
              "      <td>41</td>\n",
              "      <td>30</td>\n",
              "      <td>129</td>\n",
              "      <td>129</td>\n",
              "      <td>1</td>\n",
              "      <td>20150831</td>\n",
              "      <td>20151001</td>\n",
              "      <td>0</td>\n",
              "    </tr>\n",
              "    <tr>\n",
              "      <th>12486296</th>\n",
              "      <td>YyO+tlZtAXYXoZhNr3Vg3+dfVQvrBVGO8j1mfqe4ZHc=</td>\n",
              "      <td>41</td>\n",
              "      <td>0</td>\n",
              "      <td>0</td>\n",
              "      <td>129</td>\n",
              "      <td>1</td>\n",
              "      <td>20150430</td>\n",
              "      <td>20150601</td>\n",
              "      <td>0</td>\n",
              "    </tr>\n",
              "    <tr>\n",
              "      <th>12754553</th>\n",
              "      <td>YyO+tlZtAXYXoZhNr3Vg3+dfVQvrBVGO8j1mfqe4ZHc=</td>\n",
              "      <td>41</td>\n",
              "      <td>30</td>\n",
              "      <td>129</td>\n",
              "      <td>129</td>\n",
              "      <td>1</td>\n",
              "      <td>20160630</td>\n",
              "      <td>20160801</td>\n",
              "      <td>0</td>\n",
              "    </tr>\n",
              "    <tr>\n",
              "      <th>13638629</th>\n",
              "      <td>YyO+tlZtAXYXoZhNr3Vg3+dfVQvrBVGO8j1mfqe4ZHc=</td>\n",
              "      <td>41</td>\n",
              "      <td>30</td>\n",
              "      <td>129</td>\n",
              "      <td>129</td>\n",
              "      <td>1</td>\n",
              "      <td>20151130</td>\n",
              "      <td>20160101</td>\n",
              "      <td>0</td>\n",
              "    </tr>\n",
              "    <tr>\n",
              "      <th>14619397</th>\n",
              "      <td>YyO+tlZtAXYXoZhNr3Vg3+dfVQvrBVGO8j1mfqe4ZHc=</td>\n",
              "      <td>41</td>\n",
              "      <td>30</td>\n",
              "      <td>129</td>\n",
              "      <td>129</td>\n",
              "      <td>1</td>\n",
              "      <td>20160331</td>\n",
              "      <td>20160501</td>\n",
              "      <td>0</td>\n",
              "    </tr>\n",
              "    <tr>\n",
              "      <th>14817003</th>\n",
              "      <td>YyO+tlZtAXYXoZhNr3Vg3+dfVQvrBVGO8j1mfqe4ZHc=</td>\n",
              "      <td>41</td>\n",
              "      <td>30</td>\n",
              "      <td>129</td>\n",
              "      <td>129</td>\n",
              "      <td>1</td>\n",
              "      <td>20161031</td>\n",
              "      <td>20161201</td>\n",
              "      <td>0</td>\n",
              "    </tr>\n",
              "    <tr>\n",
              "      <th>15245581</th>\n",
              "      <td>YyO+tlZtAXYXoZhNr3Vg3+dfVQvrBVGO8j1mfqe4ZHc=</td>\n",
              "      <td>41</td>\n",
              "      <td>30</td>\n",
              "      <td>129</td>\n",
              "      <td>129</td>\n",
              "      <td>1</td>\n",
              "      <td>20150531</td>\n",
              "      <td>20150701</td>\n",
              "      <td>0</td>\n",
              "    </tr>\n",
              "    <tr>\n",
              "      <th>15543991</th>\n",
              "      <td>YyO+tlZtAXYXoZhNr3Vg3+dfVQvrBVGO8j1mfqe4ZHc=</td>\n",
              "      <td>41</td>\n",
              "      <td>30</td>\n",
              "      <td>129</td>\n",
              "      <td>129</td>\n",
              "      <td>1</td>\n",
              "      <td>20150331</td>\n",
              "      <td>20150501</td>\n",
              "      <td>0</td>\n",
              "    </tr>\n",
              "    <tr>\n",
              "      <th>16446646</th>\n",
              "      <td>YyO+tlZtAXYXoZhNr3Vg3+dfVQvrBVGO8j1mfqe4ZHc=</td>\n",
              "      <td>41</td>\n",
              "      <td>30</td>\n",
              "      <td>129</td>\n",
              "      <td>129</td>\n",
              "      <td>1</td>\n",
              "      <td>20161231</td>\n",
              "      <td>20170201</td>\n",
              "      <td>0</td>\n",
              "    </tr>\n",
              "    <tr>\n",
              "      <th>16736306</th>\n",
              "      <td>YyO+tlZtAXYXoZhNr3Vg3+dfVQvrBVGO8j1mfqe4ZHc=</td>\n",
              "      <td>41</td>\n",
              "      <td>30</td>\n",
              "      <td>129</td>\n",
              "      <td>129</td>\n",
              "      <td>1</td>\n",
              "      <td>20160229</td>\n",
              "      <td>20160401</td>\n",
              "      <td>0</td>\n",
              "    </tr>\n",
              "    <tr>\n",
              "      <th>17714472</th>\n",
              "      <td>YyO+tlZtAXYXoZhNr3Vg3+dfVQvrBVGO8j1mfqe4ZHc=</td>\n",
              "      <td>41</td>\n",
              "      <td>30</td>\n",
              "      <td>129</td>\n",
              "      <td>129</td>\n",
              "      <td>1</td>\n",
              "      <td>20160531</td>\n",
              "      <td>20160701</td>\n",
              "      <td>0</td>\n",
              "    </tr>\n",
              "    <tr>\n",
              "      <th>18599059</th>\n",
              "      <td>YyO+tlZtAXYXoZhNr3Vg3+dfVQvrBVGO8j1mfqe4ZHc=</td>\n",
              "      <td>41</td>\n",
              "      <td>30</td>\n",
              "      <td>129</td>\n",
              "      <td>129</td>\n",
              "      <td>1</td>\n",
              "      <td>20160930</td>\n",
              "      <td>20161101</td>\n",
              "      <td>0</td>\n",
              "    </tr>\n",
              "    <tr>\n",
              "      <th>20238782</th>\n",
              "      <td>YyO+tlZtAXYXoZhNr3Vg3+dfVQvrBVGO8j1mfqe4ZHc=</td>\n",
              "      <td>41</td>\n",
              "      <td>30</td>\n",
              "      <td>129</td>\n",
              "      <td>129</td>\n",
              "      <td>1</td>\n",
              "      <td>20170131</td>\n",
              "      <td>20170301</td>\n",
              "      <td>0</td>\n",
              "    </tr>\n",
              "    <tr>\n",
              "      <th>20723879</th>\n",
              "      <td>YyO+tlZtAXYXoZhNr3Vg3+dfVQvrBVGO8j1mfqe4ZHc=</td>\n",
              "      <td>41</td>\n",
              "      <td>30</td>\n",
              "      <td>129</td>\n",
              "      <td>129</td>\n",
              "      <td>1</td>\n",
              "      <td>20151231</td>\n",
              "      <td>20160201</td>\n",
              "      <td>0</td>\n",
              "    </tr>\n",
              "  </tbody>\n",
              "</table>\n",
              "</div>"
            ],
            "text/plain": [
              "                                                  msno  ...  is_cancel\n",
              "0         YyO+tlZtAXYXoZhNr3Vg3+dfVQvrBVGO8j1mfqe4ZHc=  ...          0\n",
              "753139    YyO+tlZtAXYXoZhNr3Vg3+dfVQvrBVGO8j1mfqe4ZHc=  ...          0\n",
              "1234428   YyO+tlZtAXYXoZhNr3Vg3+dfVQvrBVGO8j1mfqe4ZHc=  ...          0\n",
              "1917887   YyO+tlZtAXYXoZhNr3Vg3+dfVQvrBVGO8j1mfqe4ZHc=  ...          0\n",
              "1957479   YyO+tlZtAXYXoZhNr3Vg3+dfVQvrBVGO8j1mfqe4ZHc=  ...          0\n",
              "3482816   YyO+tlZtAXYXoZhNr3Vg3+dfVQvrBVGO8j1mfqe4ZHc=  ...          0\n",
              "5413134   YyO+tlZtAXYXoZhNr3Vg3+dfVQvrBVGO8j1mfqe4ZHc=  ...          0\n",
              "7106202   YyO+tlZtAXYXoZhNr3Vg3+dfVQvrBVGO8j1mfqe4ZHc=  ...          0\n",
              "7619099   YyO+tlZtAXYXoZhNr3Vg3+dfVQvrBVGO8j1mfqe4ZHc=  ...          0\n",
              "10161584  YyO+tlZtAXYXoZhNr3Vg3+dfVQvrBVGO8j1mfqe4ZHc=  ...          0\n",
              "11469481  YyO+tlZtAXYXoZhNr3Vg3+dfVQvrBVGO8j1mfqe4ZHc=  ...          0\n",
              "12185981  YyO+tlZtAXYXoZhNr3Vg3+dfVQvrBVGO8j1mfqe4ZHc=  ...          0\n",
              "12486296  YyO+tlZtAXYXoZhNr3Vg3+dfVQvrBVGO8j1mfqe4ZHc=  ...          0\n",
              "12754553  YyO+tlZtAXYXoZhNr3Vg3+dfVQvrBVGO8j1mfqe4ZHc=  ...          0\n",
              "13638629  YyO+tlZtAXYXoZhNr3Vg3+dfVQvrBVGO8j1mfqe4ZHc=  ...          0\n",
              "14619397  YyO+tlZtAXYXoZhNr3Vg3+dfVQvrBVGO8j1mfqe4ZHc=  ...          0\n",
              "14817003  YyO+tlZtAXYXoZhNr3Vg3+dfVQvrBVGO8j1mfqe4ZHc=  ...          0\n",
              "15245581  YyO+tlZtAXYXoZhNr3Vg3+dfVQvrBVGO8j1mfqe4ZHc=  ...          0\n",
              "15543991  YyO+tlZtAXYXoZhNr3Vg3+dfVQvrBVGO8j1mfqe4ZHc=  ...          0\n",
              "16446646  YyO+tlZtAXYXoZhNr3Vg3+dfVQvrBVGO8j1mfqe4ZHc=  ...          0\n",
              "16736306  YyO+tlZtAXYXoZhNr3Vg3+dfVQvrBVGO8j1mfqe4ZHc=  ...          0\n",
              "17714472  YyO+tlZtAXYXoZhNr3Vg3+dfVQvrBVGO8j1mfqe4ZHc=  ...          0\n",
              "18599059  YyO+tlZtAXYXoZhNr3Vg3+dfVQvrBVGO8j1mfqe4ZHc=  ...          0\n",
              "20238782  YyO+tlZtAXYXoZhNr3Vg3+dfVQvrBVGO8j1mfqe4ZHc=  ...          0\n",
              "20723879  YyO+tlZtAXYXoZhNr3Vg3+dfVQvrBVGO8j1mfqe4ZHc=  ...          0\n",
              "\n",
              "[25 rows x 9 columns]"
            ]
          },
          "metadata": {
            "tags": []
          },
          "execution_count": 6
        }
      ]
    },
    {
      "cell_type": "code",
      "metadata": {
        "colab": {
          "base_uri": "https://localhost:8080/",
          "height": 328
        },
        "id": "VEtgZYZ9GxH-",
        "outputId": "a3607a9d-e401-4c06-bd6c-a61640f36531"
      },
      "source": [
        "#Missing Values\r\n",
        "\r\n",
        "pd.DataFrame({'%missing_values':transactions.isna().sum()/transactions.shape[0]})"
      ],
      "execution_count": 7,
      "outputs": [
        {
          "output_type": "execute_result",
          "data": {
            "text/html": [
              "<div>\n",
              "<style scoped>\n",
              "    .dataframe tbody tr th:only-of-type {\n",
              "        vertical-align: middle;\n",
              "    }\n",
              "\n",
              "    .dataframe tbody tr th {\n",
              "        vertical-align: top;\n",
              "    }\n",
              "\n",
              "    .dataframe thead th {\n",
              "        text-align: right;\n",
              "    }\n",
              "</style>\n",
              "<table border=\"1\" class=\"dataframe\">\n",
              "  <thead>\n",
              "    <tr style=\"text-align: right;\">\n",
              "      <th></th>\n",
              "      <th>%missing_values</th>\n",
              "    </tr>\n",
              "  </thead>\n",
              "  <tbody>\n",
              "    <tr>\n",
              "      <th>msno</th>\n",
              "      <td>0.0</td>\n",
              "    </tr>\n",
              "    <tr>\n",
              "      <th>payment_method_id</th>\n",
              "      <td>0.0</td>\n",
              "    </tr>\n",
              "    <tr>\n",
              "      <th>payment_plan_days</th>\n",
              "      <td>0.0</td>\n",
              "    </tr>\n",
              "    <tr>\n",
              "      <th>plan_list_price</th>\n",
              "      <td>0.0</td>\n",
              "    </tr>\n",
              "    <tr>\n",
              "      <th>actual_amount_paid</th>\n",
              "      <td>0.0</td>\n",
              "    </tr>\n",
              "    <tr>\n",
              "      <th>is_auto_renew</th>\n",
              "      <td>0.0</td>\n",
              "    </tr>\n",
              "    <tr>\n",
              "      <th>transaction_date</th>\n",
              "      <td>0.0</td>\n",
              "    </tr>\n",
              "    <tr>\n",
              "      <th>membership_expire_date</th>\n",
              "      <td>0.0</td>\n",
              "    </tr>\n",
              "    <tr>\n",
              "      <th>is_cancel</th>\n",
              "      <td>0.0</td>\n",
              "    </tr>\n",
              "  </tbody>\n",
              "</table>\n",
              "</div>"
            ],
            "text/plain": [
              "                        %missing_values\n",
              "msno                                0.0\n",
              "payment_method_id                   0.0\n",
              "payment_plan_days                   0.0\n",
              "plan_list_price                     0.0\n",
              "actual_amount_paid                  0.0\n",
              "is_auto_renew                       0.0\n",
              "transaction_date                    0.0\n",
              "membership_expire_date              0.0\n",
              "is_cancel                           0.0"
            ]
          },
          "metadata": {
            "tags": []
          },
          "execution_count": 7
        }
      ]
    },
    {
      "cell_type": "markdown",
      "metadata": {
        "id": "_DPCu8b8HJ6n"
      },
      "source": [
        "There are not missing values in the dataset."
      ]
    },
    {
      "cell_type": "markdown",
      "metadata": {
        "id": "3MbRwEPrQKUe"
      },
      "source": [
        "## 3. Data Visualization"
      ]
    },
    {
      "cell_type": "code",
      "metadata": {
        "id": "zEedbT_SQIqI"
      },
      "source": [
        "features=[x for x in transactions.columns if x not in ['msno','transaction_date','membership_expire_date']] "
      ],
      "execution_count": 8,
      "outputs": []
    },
    {
      "cell_type": "code",
      "metadata": {
        "colab": {
          "base_uri": "https://localhost:8080/",
          "height": 1000
        },
        "id": "WhOYMjLzGxL1",
        "outputId": "9350db5b-e226-431f-b50f-97e6a9a4bbcd"
      },
      "source": [
        "\r\n",
        "for i in features:\r\n",
        "  fig=plt.figure(figsize=(15,7))\r\n",
        "  sns.countplot(data=transactions,x=i)\r\n",
        "  plt.show()"
      ],
      "execution_count": 9,
      "outputs": [
        {
          "output_type": "display_data",
          "data": {
            "image/png": "[encoded data removed]",
            "text/plain": [
              "<Figure size 1080x504 with 1 Axes>"
            ]
          },
          "metadata": {
            "tags": [],
            "needs_background": "light"
          }
        },
        {
          "output_type": "display_data",
          "data": {
            "image/png": "[encoded data removed]",
            "text/plain": [
              "<Figure size 1080x504 with 1 Axes>"
            ]
          },
          "metadata": {
            "tags": [],
            "needs_background": "light"
          }
        },
        {
          "output_type": "display_data",
          "data": {
            "image/png": "[encoded data removed]",
            "text/plain": [
              "<Figure size 1080x504 with 1 Axes>"
            ]
          },
          "metadata": {
            "tags": [],
            "needs_background": "light"
          }
        },
        {
          "output_type": "display_data",
          "data": {
            "image/png": "[encoded data removed]",
            "text/plain": [
              "<Figure size 1080x504 with 1 Axes>"
            ]
          },
          "metadata": {
            "tags": [],
            "needs_background": "light"
          }
        },
        {
          "output_type": "display_data",
          "data": {
            "image/png": "[encoded data removed]",
            "text/plain": [
              "<Figure size 1080x504 with 1 Axes>"
            ]
          },
          "metadata": {
            "tags": [],
            "needs_background": "light"
          }
        },
        {
          "output_type": "display_data",
          "data": {
            "image/png": "[encoded data removed]",
            "text/plain": [
              "<Figure size 1080x504 with 1 Axes>"
            ]
          },
          "metadata": {
            "tags": [],
            "needs_background": "light"
          }
        }
      ]
    },
    {
      "cell_type": "markdown",
      "metadata": {
        "id": "qQjw9suT5kBE"
      },
      "source": [
        "The previous visualizations show that most of the customers prefer to have a plan of 30 days. Also, cutomers prefer payment method 41 decide to auto-renew the subscription.\r\n",
        "\r\n",
        "More than 90% of customers don't cancel their subscription.\r\n",
        "\r\n",
        "Thare are different options of pricing for subscriptions, but customers prefer to purchase 7 plans."
      ]
    },
    {
      "cell_type": "markdown",
      "metadata": {
        "id": "ufiZY3eW9WC1"
      },
      "source": [
        "## 5. Fixing formats\r\n",
        "\r\n",
        "Let's tranform the date features and fix the data type."
      ]
    },
    {
      "cell_type": "code",
      "metadata": {
        "id": "Z4oHwzsP9omm"
      },
      "source": [
        "transactions['transaction_date']=transactions['transaction_date'].astype('str')\r\n",
        "transactions['transaction_date']=pd.to_datetime(transactions['transaction_date'])\r\n",
        "\r\n",
        "transactions['membership_expire_date']=transactions['membership_expire_date'].astype('str')\r\n",
        "transactions['membership_expire_date']=pd.to_datetime(transactions['membership_expire_date'])"
      ],
      "execution_count": 10,
      "outputs": []
    },
    {
      "cell_type": "markdown",
      "metadata": {
        "id": "0cq_fR0l-wCl"
      },
      "source": [
        "# **Feature Engineering**\r\n",
        "\r\n",
        "6.  Create new features (Grouping, interactions, binning, extracting dates)\r\n"
      ]
    },
    {
      "cell_type": "markdown",
      "metadata": {
        "id": "at0webS-IgHF"
      },
      "source": [
        "With the previous analysis on EDA, we can calculate the number of transactions for each customer"
      ]
    },
    {
      "cell_type": "code",
      "metadata": {
        "id": "GkTDuTg3Iwrv"
      },
      "source": [
        "#Number of transactions per customer\r\n",
        "\r\n",
        "temp_transaction_cust=transactions.groupby(['msno']).count()\r\n",
        "temp_transaction_cust=temp_transaction_cust.reset_index()"
      ],
      "execution_count": 11,
      "outputs": []
    },
    {
      "cell_type": "markdown",
      "metadata": {
        "id": "c8m17RO9JX46"
      },
      "source": [
        "Another feature that we can extract is the most frequent payment_plan_days for each customer."
      ]
    },
    {
      "cell_type": "code",
      "metadata": {
        "id": "3Fkg_kDjJ1Va"
      },
      "source": [
        "#Most frequent payment_method_id\r\n",
        "\r\n",
        "temp_payment_cust=transactions.loc[:,['msno','payment_plan_days']]\r\n",
        "temp_payment_cust\r\n",
        "\r\n",
        "nose=temp_payment_cust.groupby(['msno'])['payment_plan_days'].agg(lambda x: pd.Series.mode(x)[0])\r\n",
        "temp_payment_cust=nose.reset_index()\r\n"
      ],
      "execution_count": 12,
      "outputs": []
    },
    {
      "cell_type": "markdown",
      "metadata": {
        "id": "FwGVkZNcavyt"
      },
      "source": [
        "Now, most frequent temp_payment_method_id"
      ]
    },
    {
      "cell_type": "code",
      "metadata": {
        "id": "Msv09havjcij"
      },
      "source": [
        "#Most frequent payment id\r\n",
        "\r\n",
        "temp_payment_method_id=transactions.groupby(['msno'])['payment_method_id'].agg(lambda x: pd.Series.mode(x)[0]).reset_index()\r\n"
      ],
      "execution_count": 13,
      "outputs": []
    },
    {
      "cell_type": "markdown",
      "metadata": {
        "id": "ex2Y_MqKbkBB"
      },
      "source": [
        "We can calculate the total revenue for each customer"
      ]
    },
    {
      "cell_type": "code",
      "metadata": {
        "id": "2ZHYzSDfb0Qr"
      },
      "source": [
        "#Calculate revenue per customer\r\n",
        "\r\n",
        "revenue=transactions.groupby(['msno'])['actual_amount_paid'].sum().reset_index()\r\n"
      ],
      "execution_count": 14,
      "outputs": []
    },
    {
      "cell_type": "markdown",
      "metadata": {
        "id": "62yJTwWqc51i"
      },
      "source": [
        "With the feature ```is_auto_renew``` we can calculate the most frequent customer selection and determine if the customer decides to have a auto-renew setup."
      ]
    },
    {
      "cell_type": "code",
      "metadata": {
        "id": "08cRYQfxdMoL"
      },
      "source": [
        "auto_renew=transactions.groupby(['msno'])['is_auto_renew'].agg(lambda x: pd.Series.mode(x)[0]).reset_index()"
      ],
      "execution_count": 15,
      "outputs": []
    },
    {
      "cell_type": "markdown",
      "metadata": {
        "id": "dJ3qKhwRf_Q3"
      },
      "source": [
        "We can count the number of cancelations that an user has done before as key feature for our model."
      ]
    },
    {
      "cell_type": "code",
      "metadata": {
        "id": "9QFSzZJFgM1f"
      },
      "source": [
        "#Number of cancelations per user\r\n",
        "\r\n",
        "cancelations=transactions.groupby(['msno'])['is_cancel'].sum().reset_index()\r\n",
        "\r\n"
      ],
      "execution_count": 16,
      "outputs": []
    },
    {
      "cell_type": "markdown",
      "metadata": {
        "id": "Z1-fVfANB-fD"
      },
      "source": [
        "Now we are gonna explore the day, month, and year in transactions."
      ]
    },
    {
      "cell_type": "code",
      "metadata": {
        "id": "fD-TI3i8CLrG"
      },
      "source": [
        "transactions['day']=transactions.transaction_date.dt.day_name()\r\n",
        "\r\n",
        "transactions['month']=transactions.transaction_date.dt.month_name()\r\n",
        "\r\n",
        "transactions['year']=transactions.transaction_date.dt.year\r\n",
        "\r\n",
        "transactions['quarter']=transactions.transaction_date.dt.quarter\r\n",
        "\r\n",
        "transactions['quarter_end']=transactions.membership_expire_date.dt.quarter"
      ],
      "execution_count": 23,
      "outputs": []
    },
    {
      "cell_type": "code",
      "metadata": {
        "colab": {
          "base_uri": "https://localhost:8080/",
          "height": 1000
        },
        "id": "z18ptfg0DNkM",
        "outputId": "9d9544f5-ad81-48ce-a761-625ad69cb786"
      },
      "source": [
        "for i in ['day','month','year','quarter','quarter_end']:\r\n",
        "  fig=plt.figure(figsize=(15,7))\r\n",
        "  sns.countplot(data=transactions,x=i)\r\n",
        "  plt.show()"
      ],
      "execution_count": 24,
      "outputs": [
        {
          "output_type": "display_data",
          "data": {
            "image/png": "[encoded data removed]",
            "text/plain": [
              "<Figure size 1080x504 with 1 Axes>"
            ]
          },
          "metadata": {
            "tags": [],
            "needs_background": "light"
          }
        },
        {
          "output_type": "display_data",
          "data": {
            "image/png": "[encoded data removed]",
            "text/plain": [
              "<Figure size 1080x504 with 1 Axes>"
            ]
          },
          "metadata": {
            "tags": [],
            "needs_background": "light"
          }
        },
        {
          "output_type": "display_data",
          "data": {
            "image/png": "[encoded data removed]",
            "text/plain": [
              "<Figure size 1080x504 with 1 Axes>"
            ]
          },
          "metadata": {
            "tags": [],
            "needs_background": "light"
          }
        },
        {
          "output_type": "display_data",
          "data": {
            "image/png": "[encoded data removed]",
            "text/plain": [
              "<Figure size 1080x504 with 1 Axes>"
            ]
          },
          "metadata": {
            "tags": [],
            "needs_background": "light"
          }
        },
        {
          "output_type": "display_data",
          "data": {
            "image/png": "[encoded data removed]",
            "text/plain": [
              "<Figure size 1080x504 with 1 Axes>"
            ]
          },
          "metadata": {
            "tags": [],
            "needs_background": "light"
          }
        }
      ]
    },
    {
      "cell_type": "markdown",
      "metadata": {
        "id": "4goEwO7hHAO2"
      },
      "source": [
        "From the above we can see that there's no a big difference on the day the customer purchase the subscription.\r\n",
        "\r\n",
        "On the other hand, we can see that there are differences in the quarter the customer purchase the subscription. Let's create a feature that shows the most frequent quarter of purchasing by customer."
      ]
    },
    {
      "cell_type": "code",
      "metadata": {
        "id": "s5kHPFhWIVq9"
      },
      "source": [
        "quarter=transactions.groupby(['msno'])['quarter'].agg(lambda x: pd.Series.mode(x)[0]).reset_index()"
      ],
      "execution_count": 25,
      "outputs": []
    },
    {
      "cell_type": "markdown",
      "metadata": {
        "id": "RO09MzNlKuXZ"
      },
      "source": [
        "# Merging all datasets and define the final dataset of transactions\r\n",
        "\r\n",
        "After creating some datasets within the process of feature engineering, now we are going to move forward with defining the final dataset of transactions.\r\n",
        "\r\n"
      ]
    },
    {
      "cell_type": "code",
      "metadata": {
        "colab": {
          "base_uri": "https://localhost:8080/"
        },
        "id": "39WHc5bDLKKn",
        "outputId": "4203a703-cc68-419c-dcca-3966f1287db0"
      },
      "source": [
        "#First check shape of datasets\r\n",
        "\r\n",
        "datasets=[\r\n",
        "          temp_transaction_cust,\r\n",
        "temp_payment_cust,\r\n",
        "temp_payment_method_id,\r\n",
        "revenue,\r\n",
        "auto_renew,\r\n",
        "cancelations,\r\n",
        "quarter\r\n",
        "]\r\n",
        "\r\n",
        "for i in datasets:\r\n",
        "  print(i.shape)"
      ],
      "execution_count": 26,
      "outputs": [
        {
          "output_type": "stream",
          "text": [
            "(2363626, 9)\n",
            "(2363626, 2)\n",
            "(2363626, 2)\n",
            "(2363626, 2)\n",
            "(2363626, 2)\n",
            "(2363626, 2)\n",
            "(2363626, 2)\n"
          ],
          "name": "stdout"
        }
      ]
    },
    {
      "cell_type": "code",
      "metadata": {
        "colab": {
          "base_uri": "https://localhost:8080/",
          "height": 204
        },
        "id": "_aUbxayOL-es",
        "outputId": "1793975f-2b5f-4035-a0cc-009e47523b8f"
      },
      "source": [
        "#Extracting the columns we need\r\n",
        "\r\n",
        "temp_transaction_cust2=temp_transaction_cust.iloc[:,0:2]\r\n",
        "temp_transaction_cust2.head()"
      ],
      "execution_count": 32,
      "outputs": [
        {
          "output_type": "execute_result",
          "data": {
            "text/html": [
              "<div>\n",
              "<style scoped>\n",
              "    .dataframe tbody tr th:only-of-type {\n",
              "        vertical-align: middle;\n",
              "    }\n",
              "\n",
              "    .dataframe tbody tr th {\n",
              "        vertical-align: top;\n",
              "    }\n",
              "\n",
              "    .dataframe thead th {\n",
              "        text-align: right;\n",
              "    }\n",
              "</style>\n",
              "<table border=\"1\" class=\"dataframe\">\n",
              "  <thead>\n",
              "    <tr style=\"text-align: right;\">\n",
              "      <th></th>\n",
              "      <th>msno</th>\n",
              "      <th>payment_method_id</th>\n",
              "    </tr>\n",
              "  </thead>\n",
              "  <tbody>\n",
              "    <tr>\n",
              "      <th>0</th>\n",
              "      <td>+++FOrTS7ab3tIgIh8eWwX4FqRv8w/FoiOuyXsFvphY=</td>\n",
              "      <td>1</td>\n",
              "    </tr>\n",
              "    <tr>\n",
              "      <th>1</th>\n",
              "      <td>+++IZseRRiQS9aaSkH6cMYU6bGDcxUieAi/tH67sC5s=</td>\n",
              "      <td>1</td>\n",
              "    </tr>\n",
              "    <tr>\n",
              "      <th>2</th>\n",
              "      <td>+++hVY1rZox/33YtvDgmKA2Frg/2qhkz12B9ylCvh8o=</td>\n",
              "      <td>4</td>\n",
              "    </tr>\n",
              "    <tr>\n",
              "      <th>3</th>\n",
              "      <td>+++l/EXNMLTijfLBa8p2TUVVVp2aFGSuUI/h7mLmthw=</td>\n",
              "      <td>19</td>\n",
              "    </tr>\n",
              "    <tr>\n",
              "      <th>4</th>\n",
              "      <td>+++snpr7pmobhLKUgSHTv/mpkqgBT0tQJ0zQj6qKrqc=</td>\n",
              "      <td>26</td>\n",
              "    </tr>\n",
              "  </tbody>\n",
              "</table>\n",
              "</div>"
            ],
            "text/plain": [
              "                                           msno  payment_method_id\n",
              "0  +++FOrTS7ab3tIgIh8eWwX4FqRv8w/FoiOuyXsFvphY=                  1\n",
              "1  +++IZseRRiQS9aaSkH6cMYU6bGDcxUieAi/tH67sC5s=                  1\n",
              "2  +++hVY1rZox/33YtvDgmKA2Frg/2qhkz12B9ylCvh8o=                  4\n",
              "3  +++l/EXNMLTijfLBa8p2TUVVVp2aFGSuUI/h7mLmthw=                 19\n",
              "4  +++snpr7pmobhLKUgSHTv/mpkqgBT0tQJ0zQj6qKrqc=                 26"
            ]
          },
          "metadata": {
            "tags": []
          },
          "execution_count": 32
        }
      ]
    },
    {
      "cell_type": "code",
      "metadata": {
        "colab": {
          "base_uri": "https://localhost:8080/"
        },
        "id": "dA3s4iaDM_2S",
        "outputId": "62de41d9-75a5-4c0f-a743-58a6de9ddd62"
      },
      "source": [
        "#Merging datasets\r\n",
        "\r\n",
        "df_transactions=temp_transaction_cust2.merge(temp_payment_cust,on='msno')\r\n",
        "df_transactions=df_transactions.merge(temp_payment_method_id,on='msno')\r\n",
        "df_transactions=df_transactions.merge(revenue,on='msno')\r\n",
        "df_transactions=df_transactions.merge(auto_renew,on='msno')\r\n",
        "df_transactions=df_transactions.merge(cancelations,on='msno')\r\n",
        "df_transactions=df_transactions.merge(quarter,on='msno')\r\n",
        "\r\n",
        "#Checking shape\r\n",
        "\r\n",
        "df_transactions.shape"
      ],
      "execution_count": 33,
      "outputs": [
        {
          "output_type": "execute_result",
          "data": {
            "text/plain": [
              "(2363626, 8)"
            ]
          },
          "metadata": {
            "tags": []
          },
          "execution_count": 33
        }
      ]
    },
    {
      "cell_type": "code",
      "metadata": {
        "colab": {
          "base_uri": "https://localhost:8080/",
          "height": 204
        },
        "id": "AN6pI7ofOiUc",
        "outputId": "c648ee0d-bbe5-40a3-d36c-fe2fb9d7b7fa"
      },
      "source": [
        "df_transactions.head()"
      ],
      "execution_count": 34,
      "outputs": [
        {
          "output_type": "execute_result",
          "data": {
            "text/html": [
              "<div>\n",
              "<style scoped>\n",
              "    .dataframe tbody tr th:only-of-type {\n",
              "        vertical-align: middle;\n",
              "    }\n",
              "\n",
              "    .dataframe tbody tr th {\n",
              "        vertical-align: top;\n",
              "    }\n",
              "\n",
              "    .dataframe thead th {\n",
              "        text-align: right;\n",
              "    }\n",
              "</style>\n",
              "<table border=\"1\" class=\"dataframe\">\n",
              "  <thead>\n",
              "    <tr style=\"text-align: right;\">\n",
              "      <th></th>\n",
              "      <th>msno</th>\n",
              "      <th>payment_method_id_x</th>\n",
              "      <th>payment_plan_days</th>\n",
              "      <th>payment_method_id_y</th>\n",
              "      <th>actual_amount_paid</th>\n",
              "      <th>is_auto_renew</th>\n",
              "      <th>is_cancel</th>\n",
              "      <th>quarter</th>\n",
              "    </tr>\n",
              "  </thead>\n",
              "  <tbody>\n",
              "    <tr>\n",
              "      <th>0</th>\n",
              "      <td>+++FOrTS7ab3tIgIh8eWwX4FqRv8w/FoiOuyXsFvphY=</td>\n",
              "      <td>1</td>\n",
              "      <td>7</td>\n",
              "      <td>35</td>\n",
              "      <td>0</td>\n",
              "      <td>0</td>\n",
              "      <td>0</td>\n",
              "      <td>3</td>\n",
              "    </tr>\n",
              "    <tr>\n",
              "      <th>1</th>\n",
              "      <td>+++IZseRRiQS9aaSkH6cMYU6bGDcxUieAi/tH67sC5s=</td>\n",
              "      <td>1</td>\n",
              "      <td>410</td>\n",
              "      <td>38</td>\n",
              "      <td>1788</td>\n",
              "      <td>0</td>\n",
              "      <td>0</td>\n",
              "      <td>4</td>\n",
              "    </tr>\n",
              "    <tr>\n",
              "      <th>2</th>\n",
              "      <td>+++hVY1rZox/33YtvDgmKA2Frg/2qhkz12B9ylCvh8o=</td>\n",
              "      <td>4</td>\n",
              "      <td>30</td>\n",
              "      <td>41</td>\n",
              "      <td>396</td>\n",
              "      <td>1</td>\n",
              "      <td>0</td>\n",
              "      <td>1</td>\n",
              "    </tr>\n",
              "    <tr>\n",
              "      <th>3</th>\n",
              "      <td>+++l/EXNMLTijfLBa8p2TUVVVp2aFGSuUI/h7mLmthw=</td>\n",
              "      <td>19</td>\n",
              "      <td>30</td>\n",
              "      <td>39</td>\n",
              "      <td>2831</td>\n",
              "      <td>1</td>\n",
              "      <td>0</td>\n",
              "      <td>3</td>\n",
              "    </tr>\n",
              "    <tr>\n",
              "      <th>4</th>\n",
              "      <td>+++snpr7pmobhLKUgSHTv/mpkqgBT0tQJ0zQj6qKrqc=</td>\n",
              "      <td>26</td>\n",
              "      <td>30</td>\n",
              "      <td>41</td>\n",
              "      <td>3874</td>\n",
              "      <td>1</td>\n",
              "      <td>0</td>\n",
              "      <td>1</td>\n",
              "    </tr>\n",
              "  </tbody>\n",
              "</table>\n",
              "</div>"
            ],
            "text/plain": [
              "                                           msno  ...  quarter\n",
              "0  +++FOrTS7ab3tIgIh8eWwX4FqRv8w/FoiOuyXsFvphY=  ...        3\n",
              "1  +++IZseRRiQS9aaSkH6cMYU6bGDcxUieAi/tH67sC5s=  ...        4\n",
              "2  +++hVY1rZox/33YtvDgmKA2Frg/2qhkz12B9ylCvh8o=  ...        1\n",
              "3  +++l/EXNMLTijfLBa8p2TUVVVp2aFGSuUI/h7mLmthw=  ...        3\n",
              "4  +++snpr7pmobhLKUgSHTv/mpkqgBT0tQJ0zQj6qKrqc=  ...        1\n",
              "\n",
              "[5 rows x 8 columns]"
            ]
          },
          "metadata": {
            "tags": []
          },
          "execution_count": 34
        }
      ]
    },
    {
      "cell_type": "code",
      "metadata": {
        "id": "2NtWU1-aOxFZ"
      },
      "source": [
        "#Change columns names\r\n",
        "\r\n",
        "df_transactions.columns=['msno','regist_trans','mst_frq_plan_days','mst_frq_pay_met','revenue','is_auto_renew','regist_cancels','qtr_trans']"
      ],
      "execution_count": 35,
      "outputs": []
    },
    {
      "cell_type": "code",
      "metadata": {
        "colab": {
          "base_uri": "https://localhost:8080/",
          "height": 204
        },
        "id": "1SABPta6PjSj",
        "outputId": "28f30294-5715-4252-b7cb-bce9ea07908c"
      },
      "source": [
        "#Check\r\n",
        "\r\n",
        "df_transactions.head()"
      ],
      "execution_count": 36,
      "outputs": [
        {
          "output_type": "execute_result",
          "data": {
            "text/html": [
              "<div>\n",
              "<style scoped>\n",
              "    .dataframe tbody tr th:only-of-type {\n",
              "        vertical-align: middle;\n",
              "    }\n",
              "\n",
              "    .dataframe tbody tr th {\n",
              "        vertical-align: top;\n",
              "    }\n",
              "\n",
              "    .dataframe thead th {\n",
              "        text-align: right;\n",
              "    }\n",
              "</style>\n",
              "<table border=\"1\" class=\"dataframe\">\n",
              "  <thead>\n",
              "    <tr style=\"text-align: right;\">\n",
              "      <th></th>\n",
              "      <th>msno</th>\n",
              "      <th>regist_trans</th>\n",
              "      <th>mst_frq_plan_days</th>\n",
              "      <th>mst_frq_pay_met</th>\n",
              "      <th>revenue</th>\n",
              "      <th>is_auto_renew</th>\n",
              "      <th>regist_cancels</th>\n",
              "      <th>qtr_trans</th>\n",
              "    </tr>\n",
              "  </thead>\n",
              "  <tbody>\n",
              "    <tr>\n",
              "      <th>0</th>\n",
              "      <td>+++FOrTS7ab3tIgIh8eWwX4FqRv8w/FoiOuyXsFvphY=</td>\n",
              "      <td>1</td>\n",
              "      <td>7</td>\n",
              "      <td>35</td>\n",
              "      <td>0</td>\n",
              "      <td>0</td>\n",
              "      <td>0</td>\n",
              "      <td>3</td>\n",
              "    </tr>\n",
              "    <tr>\n",
              "      <th>1</th>\n",
              "      <td>+++IZseRRiQS9aaSkH6cMYU6bGDcxUieAi/tH67sC5s=</td>\n",
              "      <td>1</td>\n",
              "      <td>410</td>\n",
              "      <td>38</td>\n",
              "      <td>1788</td>\n",
              "      <td>0</td>\n",
              "      <td>0</td>\n",
              "      <td>4</td>\n",
              "    </tr>\n",
              "    <tr>\n",
              "      <th>2</th>\n",
              "      <td>+++hVY1rZox/33YtvDgmKA2Frg/2qhkz12B9ylCvh8o=</td>\n",
              "      <td>4</td>\n",
              "      <td>30</td>\n",
              "      <td>41</td>\n",
              "      <td>396</td>\n",
              "      <td>1</td>\n",
              "      <td>0</td>\n",
              "      <td>1</td>\n",
              "    </tr>\n",
              "    <tr>\n",
              "      <th>3</th>\n",
              "      <td>+++l/EXNMLTijfLBa8p2TUVVVp2aFGSuUI/h7mLmthw=</td>\n",
              "      <td>19</td>\n",
              "      <td>30</td>\n",
              "      <td>39</td>\n",
              "      <td>2831</td>\n",
              "      <td>1</td>\n",
              "      <td>0</td>\n",
              "      <td>3</td>\n",
              "    </tr>\n",
              "    <tr>\n",
              "      <th>4</th>\n",
              "      <td>+++snpr7pmobhLKUgSHTv/mpkqgBT0tQJ0zQj6qKrqc=</td>\n",
              "      <td>26</td>\n",
              "      <td>30</td>\n",
              "      <td>41</td>\n",
              "      <td>3874</td>\n",
              "      <td>1</td>\n",
              "      <td>0</td>\n",
              "      <td>1</td>\n",
              "    </tr>\n",
              "  </tbody>\n",
              "</table>\n",
              "</div>"
            ],
            "text/plain": [
              "                                           msno  ...  qtr_trans\n",
              "0  +++FOrTS7ab3tIgIh8eWwX4FqRv8w/FoiOuyXsFvphY=  ...          3\n",
              "1  +++IZseRRiQS9aaSkH6cMYU6bGDcxUieAi/tH67sC5s=  ...          4\n",
              "2  +++hVY1rZox/33YtvDgmKA2Frg/2qhkz12B9ylCvh8o=  ...          1\n",
              "3  +++l/EXNMLTijfLBa8p2TUVVVp2aFGSuUI/h7mLmthw=  ...          3\n",
              "4  +++snpr7pmobhLKUgSHTv/mpkqgBT0tQJ0zQj6qKrqc=  ...          1\n",
              "\n",
              "[5 rows x 8 columns]"
            ]
          },
          "metadata": {
            "tags": []
          },
          "execution_count": 36
        }
      ]
    },
    {
      "cell_type": "code",
      "metadata": {
        "id": "hzuTmsZpFY4U"
      },
      "source": [
        "#Export df_transactions\n",
        "\n",
        "df_transactions.to_csv('/content/drive/MyDrive/Colab Notebooks/KKBOX/df_transactions.csv',index=False)\n"
      ],
      "execution_count": 37,
      "outputs": []
    },
    {
      "cell_type": "code",
      "metadata": {
        "id": "Ysmj0jn6Gwkk"
      },
      "source": [
        ""
      ],
      "execution_count": 17,
      "outputs": []
    }
  ]
}