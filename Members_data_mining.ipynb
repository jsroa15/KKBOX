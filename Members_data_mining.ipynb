{
  "nbformat": 4,
  "nbformat_minor": 0,
  "metadata": {
    "colab": {
      "name": "Members data mining.ipynb",
      "provenance": [],
      "collapsed_sections": [],
      "mount_file_id": "1zVsITbRb36_Ouyp1KCIIuYbCI-LlWk6l",
      "authorship_tag": "ABX9TyNusAvWrkLJJyoBi3iXlcVS",
      "include_colab_link": true
    },
    "kernelspec": {
      "name": "python3",
      "display_name": "Python 3"
    }
  },
  "cells": [
    {
      "cell_type": "markdown",
      "metadata": {
        "id": "view-in-github",
        "colab_type": "text"
      },
      "source": [
        "<a href=\"https://colab.research.google.com/github/jsroa15/KKBOX/blob/main/Members_data_mining.ipynb\" target=\"_parent\"><img src=\"https://colab.research.google.com/assets/colab-badge.svg\" alt=\"Open In Colab\"/></a>"
      ]
    },
    {
      "cell_type": "code",
      "metadata": {
        "id": "KQtggMdSE8Wr"
      },
      "source": [
        "#Import\n",
        "\n",
        "import pandas as pd\n",
        "import matplotlib.pyplot as plt\n",
        "import seaborn as sns\n",
        "import numpy as np"
      ],
      "execution_count": null,
      "outputs": []
    },
    {
      "cell_type": "code",
      "metadata": {
        "id": "d2gxLkJoFFRC"
      },
      "source": [
        "#Loading data\n",
        "\n",
        "members=pd.read_csv('/content/drive/MyDrive/Colab Notebooks/KKBOX/members_v3.csv')"
      ],
      "execution_count": null,
      "outputs": []
    },
    {
      "cell_type": "code",
      "metadata": {
        "colab": {
          "base_uri": "https://localhost:8080/",
          "height": 218
        },
        "id": "z9QvJpmRFcPK",
        "outputId": "fb142184-0f59-461f-9c1c-36777307945c"
      },
      "source": [
        "#Exploring data\n",
        "\n",
        "members.head()\n"
      ],
      "execution_count": null,
      "outputs": [
        {
          "output_type": "execute_result",
          "data": {
            "text/html": [
              "<div>\n",
              "<style scoped>\n",
              "    .dataframe tbody tr th:only-of-type {\n",
              "        vertical-align: middle;\n",
              "    }\n",
              "\n",
              "    .dataframe tbody tr th {\n",
              "        vertical-align: top;\n",
              "    }\n",
              "\n",
              "    .dataframe thead th {\n",
              "        text-align: right;\n",
              "    }\n",
              "</style>\n",
              "<table border=\"1\" class=\"dataframe\">\n",
              "  <thead>\n",
              "    <tr style=\"text-align: right;\">\n",
              "      <th></th>\n",
              "      <th>msno</th>\n",
              "      <th>city</th>\n",
              "      <th>bd</th>\n",
              "      <th>gender</th>\n",
              "      <th>registered_via</th>\n",
              "      <th>registration_init_time</th>\n",
              "    </tr>\n",
              "  </thead>\n",
              "  <tbody>\n",
              "    <tr>\n",
              "      <th>0</th>\n",
              "      <td>Rb9UwLQTrxzBVwCB6+bCcSQWZ9JiNLC9dXtM1oEsZA8=</td>\n",
              "      <td>1</td>\n",
              "      <td>0</td>\n",
              "      <td>NaN</td>\n",
              "      <td>11</td>\n",
              "      <td>20110911</td>\n",
              "    </tr>\n",
              "    <tr>\n",
              "      <th>1</th>\n",
              "      <td>+tJonkh+O1CA796Fm5X60UMOtB6POHAwPjbTRVl/EuU=</td>\n",
              "      <td>1</td>\n",
              "      <td>0</td>\n",
              "      <td>NaN</td>\n",
              "      <td>7</td>\n",
              "      <td>20110914</td>\n",
              "    </tr>\n",
              "    <tr>\n",
              "      <th>2</th>\n",
              "      <td>cV358ssn7a0f7jZOwGNWS07wCKVqxyiImJUX6xcIwKw=</td>\n",
              "      <td>1</td>\n",
              "      <td>0</td>\n",
              "      <td>NaN</td>\n",
              "      <td>11</td>\n",
              "      <td>20110915</td>\n",
              "    </tr>\n",
              "    <tr>\n",
              "      <th>3</th>\n",
              "      <td>9bzDeJP6sQodK73K5CBlJ6fgIQzPeLnRl0p5B77XP+g=</td>\n",
              "      <td>1</td>\n",
              "      <td>0</td>\n",
              "      <td>NaN</td>\n",
              "      <td>11</td>\n",
              "      <td>20110915</td>\n",
              "    </tr>\n",
              "    <tr>\n",
              "      <th>4</th>\n",
              "      <td>WFLY3s7z4EZsieHCt63XrsdtfTEmJ+2PnnKLH5GY4Tk=</td>\n",
              "      <td>6</td>\n",
              "      <td>32</td>\n",
              "      <td>female</td>\n",
              "      <td>9</td>\n",
              "      <td>20110915</td>\n",
              "    </tr>\n",
              "  </tbody>\n",
              "</table>\n",
              "</div>"
            ],
            "text/plain": [
              "                                           msno  ...  registration_init_time\n",
              "0  Rb9UwLQTrxzBVwCB6+bCcSQWZ9JiNLC9dXtM1oEsZA8=  ...                20110911\n",
              "1  +tJonkh+O1CA796Fm5X60UMOtB6POHAwPjbTRVl/EuU=  ...                20110914\n",
              "2  cV358ssn7a0f7jZOwGNWS07wCKVqxyiImJUX6xcIwKw=  ...                20110915\n",
              "3  9bzDeJP6sQodK73K5CBlJ6fgIQzPeLnRl0p5B77XP+g=  ...                20110915\n",
              "4  WFLY3s7z4EZsieHCt63XrsdtfTEmJ+2PnnKLH5GY4Tk=  ...                20110915\n",
              "\n",
              "[5 rows x 6 columns]"
            ]
          },
          "metadata": {
            "tags": []
          },
          "execution_count": 4
        }
      ]
    },
    {
      "cell_type": "code",
      "metadata": {
        "colab": {
          "base_uri": "https://localhost:8080/"
        },
        "id": "vKNSx3VMFuvS",
        "outputId": "dbaf64cf-07ab-47c0-d01a-ba87981e06ff"
      },
      "source": [
        "#Some usefull information\n",
        "\n",
        "print('dataframe # of rows: ', members.shape[0])\n",
        "\n",
        "print('\\nnumber of unique counts per msno: ',members.msno.nunique())\n",
        "\n",
        "print('\\nMissing values')\n",
        "\n",
        "print(members.isnull().sum())\n",
        "\n"
      ],
      "execution_count": null,
      "outputs": [
        {
          "output_type": "stream",
          "text": [
            "dataframe # of rows:  6769473\n",
            "\n",
            "number of unique counts per msno:  6769473\n",
            "\n",
            "Missing values\n",
            "msno                            0\n",
            "city                            0\n",
            "bd                              0\n",
            "gender                    4429505\n",
            "registered_via                  0\n",
            "registration_init_time          0\n",
            "dtype: int64\n"
          ],
          "name": "stdout"
        }
      ]
    },
    {
      "cell_type": "code",
      "metadata": {
        "colab": {
          "base_uri": "https://localhost:8080/",
          "height": 138
        },
        "id": "8R2_nbouH-sG",
        "outputId": "6ac7cf12-28b0-4def-a1e2-0c226650728d"
      },
      "source": [
        "#Exploring gender with current variables\n",
        "\n",
        "members.groupby(by='gender').agg('count')"
      ],
      "execution_count": null,
      "outputs": [
        {
          "output_type": "execute_result",
          "data": {
            "text/html": [
              "<div>\n",
              "<style scoped>\n",
              "    .dataframe tbody tr th:only-of-type {\n",
              "        vertical-align: middle;\n",
              "    }\n",
              "\n",
              "    .dataframe tbody tr th {\n",
              "        vertical-align: top;\n",
              "    }\n",
              "\n",
              "    .dataframe thead th {\n",
              "        text-align: right;\n",
              "    }\n",
              "</style>\n",
              "<table border=\"1\" class=\"dataframe\">\n",
              "  <thead>\n",
              "    <tr style=\"text-align: right;\">\n",
              "      <th></th>\n",
              "      <th>msno</th>\n",
              "      <th>city</th>\n",
              "      <th>bd</th>\n",
              "      <th>registered_via</th>\n",
              "      <th>registration_init_time</th>\n",
              "    </tr>\n",
              "    <tr>\n",
              "      <th>gender</th>\n",
              "      <th></th>\n",
              "      <th></th>\n",
              "      <th></th>\n",
              "      <th></th>\n",
              "      <th></th>\n",
              "    </tr>\n",
              "  </thead>\n",
              "  <tbody>\n",
              "    <tr>\n",
              "      <th>female</th>\n",
              "      <td>1144613</td>\n",
              "      <td>1144613</td>\n",
              "      <td>1144613</td>\n",
              "      <td>1144613</td>\n",
              "      <td>1144613</td>\n",
              "    </tr>\n",
              "    <tr>\n",
              "      <th>male</th>\n",
              "      <td>1195355</td>\n",
              "      <td>1195355</td>\n",
              "      <td>1195355</td>\n",
              "      <td>1195355</td>\n",
              "      <td>1195355</td>\n",
              "    </tr>\n",
              "  </tbody>\n",
              "</table>\n",
              "</div>"
            ],
            "text/plain": [
              "           msno     city       bd  registered_via  registration_init_time\n",
              "gender                                                                   \n",
              "female  1144613  1144613  1144613         1144613                 1144613\n",
              "male    1195355  1195355  1195355         1195355                 1195355"
            ]
          },
          "metadata": {
            "tags": []
          },
          "execution_count": 6
        }
      ]
    },
    {
      "cell_type": "code",
      "metadata": {
        "id": "0LEe9PN-L_rv"
      },
      "source": [
        "#Creating mask to filter NaN values in gender\n",
        "\n",
        "filt=members.gender.isnull()\n",
        "\n",
        "#Filtering dataframe\n",
        "\n",
        "prueba=members[filt]"
      ],
      "execution_count": null,
      "outputs": []
    },
    {
      "cell_type": "code",
      "metadata": {
        "colab": {
          "base_uri": "https://localhost:8080/"
        },
        "id": "wrS5C-k6PoR4",
        "outputId": "6402f60c-dac3-4c5a-ea88-cba0bdaa2604"
      },
      "source": [
        "#Extracting indexes\n",
        "\n",
        "indexes=list(prueba.index)\n",
        "\n",
        "\n",
        "#Based on the number on male and females entries the decision was to impute 50%\n",
        "#of data with male and the other half with women\n",
        "\n",
        "#Slicing indexes list for replacing\n",
        "\n",
        "for_women=indexes[0:2214753]\n",
        "for_men=indexes[2214753:4429506]\n",
        "\n",
        "#Replacing in original dataframe\n",
        "\n",
        "members.loc[for_women,'gender']='female'\n",
        "members.loc[for_men,'gender']='male'\n",
        "\n",
        "#Checking missing values\n",
        "\n",
        "members.gender.isnull().sum()"
      ],
      "execution_count": null,
      "outputs": [
        {
          "output_type": "execute_result",
          "data": {
            "text/plain": [
              "0"
            ]
          },
          "metadata": {
            "tags": []
          },
          "execution_count": 8
        }
      ]
    },
    {
      "cell_type": "code",
      "metadata": {
        "colab": {
          "base_uri": "https://localhost:8080/"
        },
        "id": "j3O0hxBRUJRh",
        "outputId": "265670bf-19b6-4698-d95b-75c72f043cea"
      },
      "source": [
        "#Exploring bd column\n",
        "\n",
        "print(members.bd.value_counts())\n",
        "\n",
        "print(members.bd.describe())\n",
        "\n",
        "print(np.percentile(members.bd,99.7))"
      ],
      "execution_count": null,
      "outputs": [
        {
          "output_type": "stream",
          "text": [
            " 0      4540215\n",
            " 22      112200\n",
            " 21      110574\n",
            " 20      110452\n",
            " 27      102769\n",
            "         ...   \n",
            " 919          1\n",
            " 920          1\n",
            " 923          1\n",
            " 925          1\n",
            "-5            1\n",
            "Name: bd, Length: 386, dtype: int64\n",
            "count    6.769473e+06\n",
            "mean     9.795794e+00\n",
            "std      1.792590e+01\n",
            "min     -7.168000e+03\n",
            "25%      0.000000e+00\n",
            "50%      0.000000e+00\n",
            "75%      2.100000e+01\n",
            "max      2.016000e+03\n",
            "Name: bd, dtype: float64\n",
            "64.0\n"
          ],
          "name": "stdout"
        }
      ]
    },
    {
      "cell_type": "code",
      "metadata": {
        "colab": {
          "base_uri": "https://localhost:8080/"
        },
        "id": "2cPxsLbSg0oA",
        "outputId": "85d0ce8e-0f35-4662-9d5c-d53998810663"
      },
      "source": [
        "#How many rows less than 0 and greater\n",
        "\n",
        "print(members[members['bd']<0].shape[0])\n",
        "print(members[members['bd']>np.percentile(members.bd,99.7)].shape[0])"
      ],
      "execution_count": null,
      "outputs": [
        {
          "output_type": "stream",
          "text": [
            "274\n",
            "20283\n"
          ],
          "name": "stdout"
        }
      ]
    },
    {
      "cell_type": "code",
      "metadata": {
        "colab": {
          "base_uri": "https://localhost:8080/"
        },
        "id": "dTdE0f18Uf6t",
        "outputId": "5364c803-c9ee-45d0-d047-53905287c5ef"
      },
      "source": [
        "#Calculating percentage of 'weird' rows\n",
        "\n",
        "print(members[members['bd']>np.percentile(members.bd,99.7)].shape[0]/members.shape[0]*100)"
      ],
      "execution_count": null,
      "outputs": [
        {
          "output_type": "stream",
          "text": [
            "0.2996245054821845\n"
          ],
          "name": "stdout"
        }
      ]
    },
    {
      "cell_type": "code",
      "metadata": {
        "id": "HQ0qqeM2i0q0"
      },
      "source": [
        "#Filter dataframe with postive ages and less than percentile 99.7\n",
        "\n",
        "prueba=members[(members['bd']>0)&(members['bd']<=np.percentile(members.bd,99.7))]\n",
        "\n",
        "df=prueba.groupby(by=['gender','city'])['bd'].agg('mean').reset_index()\n",
        "\n",
        "df[['bd']]=np.round(df.bd,0)"
      ],
      "execution_count": null,
      "outputs": []
    },
    {
      "cell_type": "code",
      "metadata": {
        "colab": {
          "base_uri": "https://localhost:8080/",
          "height": 198
        },
        "id": "bqWduotp-a6Z",
        "outputId": "c65e812f-3c04-4570-a308-611bb21b1000"
      },
      "source": [
        "#Creating a key to merge with members\n",
        "\n",
        "df['key']=df.apply(lambda row:(row.gender,row.city),axis=1)\n",
        "df.head()"
      ],
      "execution_count": null,
      "outputs": [
        {
          "output_type": "execute_result",
          "data": {
            "text/html": [
              "<div>\n",
              "<style scoped>\n",
              "    .dataframe tbody tr th:only-of-type {\n",
              "        vertical-align: middle;\n",
              "    }\n",
              "\n",
              "    .dataframe tbody tr th {\n",
              "        vertical-align: top;\n",
              "    }\n",
              "\n",
              "    .dataframe thead th {\n",
              "        text-align: right;\n",
              "    }\n",
              "</style>\n",
              "<table border=\"1\" class=\"dataframe\">\n",
              "  <thead>\n",
              "    <tr style=\"text-align: right;\">\n",
              "      <th></th>\n",
              "      <th>gender</th>\n",
              "      <th>city</th>\n",
              "      <th>bd</th>\n",
              "      <th>key</th>\n",
              "    </tr>\n",
              "  </thead>\n",
              "  <tbody>\n",
              "    <tr>\n",
              "      <th>0</th>\n",
              "      <td>female</td>\n",
              "      <td>1</td>\n",
              "      <td>29.0</td>\n",
              "      <td>(female, 1)</td>\n",
              "    </tr>\n",
              "    <tr>\n",
              "      <th>1</th>\n",
              "      <td>female</td>\n",
              "      <td>3</td>\n",
              "      <td>27.0</td>\n",
              "      <td>(female, 3)</td>\n",
              "    </tr>\n",
              "    <tr>\n",
              "      <th>2</th>\n",
              "      <td>female</td>\n",
              "      <td>4</td>\n",
              "      <td>29.0</td>\n",
              "      <td>(female, 4)</td>\n",
              "    </tr>\n",
              "    <tr>\n",
              "      <th>3</th>\n",
              "      <td>female</td>\n",
              "      <td>5</td>\n",
              "      <td>31.0</td>\n",
              "      <td>(female, 5)</td>\n",
              "    </tr>\n",
              "    <tr>\n",
              "      <th>4</th>\n",
              "      <td>female</td>\n",
              "      <td>6</td>\n",
              "      <td>28.0</td>\n",
              "      <td>(female, 6)</td>\n",
              "    </tr>\n",
              "  </tbody>\n",
              "</table>\n",
              "</div>"
            ],
            "text/plain": [
              "   gender  city    bd          key\n",
              "0  female     1  29.0  (female, 1)\n",
              "1  female     3  27.0  (female, 3)\n",
              "2  female     4  29.0  (female, 4)\n",
              "3  female     5  31.0  (female, 5)\n",
              "4  female     6  28.0  (female, 6)"
            ]
          },
          "metadata": {
            "tags": []
          },
          "execution_count": 13
        }
      ]
    },
    {
      "cell_type": "code",
      "metadata": {
        "id": "Yick6DjZa6ws"
      },
      "source": [
        "#Creating a Key to merge with df\n",
        "\n",
        "members['key']=members.apply(lambda row:(row.gender,row.city),axis=1)\n",
        "members.head()\n",
        "\n",
        "#Filtering rows with age=0\n",
        "\n",
        "ceros=members['bd']==0\n",
        "df1=members[ceros]\n",
        "\n",
        "#Extracting original indexes\n",
        "indexes2=list(df1.index)\n",
        "df1=df1.merge(df,on='key',how='left')\n",
        "\n",
        "#Setting up indexes in df1\n",
        "s=pd.Series(indexes2)\n",
        "df1.set_index(s,inplace=True)"
      ],
      "execution_count": null,
      "outputs": []
    },
    {
      "cell_type": "code",
      "metadata": {
        "id": "fRFdIPLFzVJF"
      },
      "source": [
        "#Just to make the operations and test if everything is OK\n",
        "members2=members.copy()"
      ],
      "execution_count": null,
      "outputs": []
    },
    {
      "cell_type": "code",
      "metadata": {
        "colab": {
          "base_uri": "https://localhost:8080/"
        },
        "id": "BYcdQQiygBoX",
        "outputId": "fe7fdc8f-5cf2-472d-b9ab-8433fdd7da85"
      },
      "source": [
        "#Replacing operation\n",
        "members2.loc[indexes2,'bd']=df1.bd_y\n",
        "\n",
        "#Checking\n",
        "\n",
        "members2.isna().sum()"
      ],
      "execution_count": null,
      "outputs": [
        {
          "output_type": "execute_result",
          "data": {
            "text/plain": [
              "msno                      0\n",
              "city                      0\n",
              "bd                        0\n",
              "gender                    0\n",
              "registered_via            0\n",
              "registration_init_time    0\n",
              "key                       0\n",
              "dtype: int64"
            ]
          },
          "metadata": {
            "tags": []
          },
          "execution_count": 16
        }
      ]
    },
    {
      "cell_type": "code",
      "metadata": {
        "colab": {
          "base_uri": "https://localhost:8080/"
        },
        "id": "o9AFpsW-Wd4X",
        "outputId": "9b56dd48-8c4d-4f45-c8de-ae1f92c701b2"
      },
      "source": [
        "#Back to original members df\n",
        "\n",
        "members.loc[indexes2,'bd']=df1.bd_y\n",
        "\n",
        "#Applying to members prior filters\n",
        "\n",
        "df_members=members[(members['bd']>0)&(members['bd']<=np.percentile(members.bd,99.7))]\n",
        "\n",
        "#Convert registration_init_time to str and then to datetime\n",
        "\n",
        "df_members['registration_init_time']=df_members['registration_init_time'].astype('str')\n",
        "df_members['registration_init_time']=pd.to_datetime(df_members['registration_init_time'])\n",
        "df_members.info()   #Checking\n"
      ],
      "execution_count": null,
      "outputs": [
        {
          "output_type": "stream",
          "text": [
            "/usr/local/lib/python3.6/dist-packages/ipykernel_launcher.py:11: SettingWithCopyWarning: \n",
            "A value is trying to be set on a copy of a slice from a DataFrame.\n",
            "Try using .loc[row_indexer,col_indexer] = value instead\n",
            "\n",
            "See the caveats in the documentation: https://pandas.pydata.org/pandas-docs/stable/user_guide/indexing.html#returning-a-view-versus-a-copy\n",
            "  # This is added back by InteractiveShellApp.init_path()\n"
          ],
          "name": "stderr"
        },
        {
          "output_type": "stream",
          "text": [
            "<class 'pandas.core.frame.DataFrame'>\n",
            "Int64Index: 6748916 entries, 0 to 6769472\n",
            "Data columns (total 7 columns):\n",
            " #   Column                  Dtype         \n",
            "---  ------                  -----         \n",
            " 0   msno                    object        \n",
            " 1   city                    int64         \n",
            " 2   bd                      float64       \n",
            " 3   gender                  object        \n",
            " 4   registered_via          int64         \n",
            " 5   registration_init_time  datetime64[ns]\n",
            " 6   key                     object        \n",
            "dtypes: datetime64[ns](1), float64(1), int64(2), object(3)\n",
            "memory usage: 411.9+ MB\n"
          ],
          "name": "stdout"
        },
        {
          "output_type": "stream",
          "text": [
            "/usr/local/lib/python3.6/dist-packages/ipykernel_launcher.py:12: SettingWithCopyWarning: \n",
            "A value is trying to be set on a copy of a slice from a DataFrame.\n",
            "Try using .loc[row_indexer,col_indexer] = value instead\n",
            "\n",
            "See the caveats in the documentation: https://pandas.pydata.org/pandas-docs/stable/user_guide/indexing.html#returning-a-view-versus-a-copy\n",
            "  if sys.path[0] == '':\n"
          ],
          "name": "stderr"
        }
      ]
    },
    {
      "cell_type": "code",
      "metadata": {
        "colab": {
          "base_uri": "https://localhost:8080/",
          "height": 414
        },
        "id": "--peRrG8uBPp",
        "outputId": "15b3f08b-0afb-4891-80d3-0d7abccaf460"
      },
      "source": [
        "#Creating a column to extract month number\n",
        "\n",
        "df_members['month_init']=df_members.registration_init_time.dt.month\n",
        "df_members.head()"
      ],
      "execution_count": null,
      "outputs": [
        {
          "output_type": "stream",
          "text": [
            "/usr/local/lib/python3.6/dist-packages/ipykernel_launcher.py:3: SettingWithCopyWarning: \n",
            "A value is trying to be set on a copy of a slice from a DataFrame.\n",
            "Try using .loc[row_indexer,col_indexer] = value instead\n",
            "\n",
            "See the caveats in the documentation: https://pandas.pydata.org/pandas-docs/stable/user_guide/indexing.html#returning-a-view-versus-a-copy\n",
            "  This is separate from the ipykernel package so we can avoid doing imports until\n"
          ],
          "name": "stderr"
        },
        {
          "output_type": "execute_result",
          "data": {
            "text/html": [
              "<div>\n",
              "<style scoped>\n",
              "    .dataframe tbody tr th:only-of-type {\n",
              "        vertical-align: middle;\n",
              "    }\n",
              "\n",
              "    .dataframe tbody tr th {\n",
              "        vertical-align: top;\n",
              "    }\n",
              "\n",
              "    .dataframe thead th {\n",
              "        text-align: right;\n",
              "    }\n",
              "</style>\n",
              "<table border=\"1\" class=\"dataframe\">\n",
              "  <thead>\n",
              "    <tr style=\"text-align: right;\">\n",
              "      <th></th>\n",
              "      <th>msno</th>\n",
              "      <th>city</th>\n",
              "      <th>bd</th>\n",
              "      <th>gender</th>\n",
              "      <th>registered_via</th>\n",
              "      <th>registration_init_time</th>\n",
              "      <th>key</th>\n",
              "      <th>month_init</th>\n",
              "    </tr>\n",
              "  </thead>\n",
              "  <tbody>\n",
              "    <tr>\n",
              "      <th>0</th>\n",
              "      <td>Rb9UwLQTrxzBVwCB6+bCcSQWZ9JiNLC9dXtM1oEsZA8=</td>\n",
              "      <td>1</td>\n",
              "      <td>29.0</td>\n",
              "      <td>female</td>\n",
              "      <td>11</td>\n",
              "      <td>2011-09-11</td>\n",
              "      <td>(female, 1)</td>\n",
              "      <td>9</td>\n",
              "    </tr>\n",
              "    <tr>\n",
              "      <th>1</th>\n",
              "      <td>+tJonkh+O1CA796Fm5X60UMOtB6POHAwPjbTRVl/EuU=</td>\n",
              "      <td>1</td>\n",
              "      <td>29.0</td>\n",
              "      <td>female</td>\n",
              "      <td>7</td>\n",
              "      <td>2011-09-14</td>\n",
              "      <td>(female, 1)</td>\n",
              "      <td>9</td>\n",
              "    </tr>\n",
              "    <tr>\n",
              "      <th>2</th>\n",
              "      <td>cV358ssn7a0f7jZOwGNWS07wCKVqxyiImJUX6xcIwKw=</td>\n",
              "      <td>1</td>\n",
              "      <td>29.0</td>\n",
              "      <td>female</td>\n",
              "      <td>11</td>\n",
              "      <td>2011-09-15</td>\n",
              "      <td>(female, 1)</td>\n",
              "      <td>9</td>\n",
              "    </tr>\n",
              "    <tr>\n",
              "      <th>3</th>\n",
              "      <td>9bzDeJP6sQodK73K5CBlJ6fgIQzPeLnRl0p5B77XP+g=</td>\n",
              "      <td>1</td>\n",
              "      <td>29.0</td>\n",
              "      <td>female</td>\n",
              "      <td>11</td>\n",
              "      <td>2011-09-15</td>\n",
              "      <td>(female, 1)</td>\n",
              "      <td>9</td>\n",
              "    </tr>\n",
              "    <tr>\n",
              "      <th>4</th>\n",
              "      <td>WFLY3s7z4EZsieHCt63XrsdtfTEmJ+2PnnKLH5GY4Tk=</td>\n",
              "      <td>6</td>\n",
              "      <td>32.0</td>\n",
              "      <td>female</td>\n",
              "      <td>9</td>\n",
              "      <td>2011-09-15</td>\n",
              "      <td>(female, 6)</td>\n",
              "      <td>9</td>\n",
              "    </tr>\n",
              "  </tbody>\n",
              "</table>\n",
              "</div>"
            ],
            "text/plain": [
              "                                           msno  city  ...          key month_init\n",
              "0  Rb9UwLQTrxzBVwCB6+bCcSQWZ9JiNLC9dXtM1oEsZA8=     1  ...  (female, 1)          9\n",
              "1  +tJonkh+O1CA796Fm5X60UMOtB6POHAwPjbTRVl/EuU=     1  ...  (female, 1)          9\n",
              "2  cV358ssn7a0f7jZOwGNWS07wCKVqxyiImJUX6xcIwKw=     1  ...  (female, 1)          9\n",
              "3  9bzDeJP6sQodK73K5CBlJ6fgIQzPeLnRl0p5B77XP+g=     1  ...  (female, 1)          9\n",
              "4  WFLY3s7z4EZsieHCt63XrsdtfTEmJ+2PnnKLH5GY4Tk=     6  ...  (female, 6)          9\n",
              "\n",
              "[5 rows x 8 columns]"
            ]
          },
          "metadata": {
            "tags": []
          },
          "execution_count": 18
        }
      ]
    },
    {
      "cell_type": "code",
      "metadata": {
        "colab": {
          "base_uri": "https://localhost:8080/"
        },
        "id": "uE7fDw5-pexq",
        "outputId": "0cae9348-0fa8-4e0e-acb4-963744d3c8cb"
      },
      "source": [
        "#Drop Key\n",
        "\n",
        "df_members.drop(['key'],axis=1,inplace=True)\n",
        "\n",
        "#Change data types\n",
        "to_change=['city','registered_via','month_init']\n",
        "\n",
        "for i in to_change:\n",
        "  df_members[i]=df_members[i].astype('str')\n"
      ],
      "execution_count": null,
      "outputs": [
        {
          "output_type": "stream",
          "text": [
            "/usr/local/lib/python3.6/dist-packages/pandas/core/frame.py:4174: SettingWithCopyWarning: \n",
            "A value is trying to be set on a copy of a slice from a DataFrame\n",
            "\n",
            "See the caveats in the documentation: https://pandas.pydata.org/pandas-docs/stable/user_guide/indexing.html#returning-a-view-versus-a-copy\n",
            "  errors=errors,\n",
            "/usr/local/lib/python3.6/dist-packages/ipykernel_launcher.py:9: SettingWithCopyWarning: \n",
            "A value is trying to be set on a copy of a slice from a DataFrame.\n",
            "Try using .loc[row_indexer,col_indexer] = value instead\n",
            "\n",
            "See the caveats in the documentation: https://pandas.pydata.org/pandas-docs/stable/user_guide/indexing.html#returning-a-view-versus-a-copy\n",
            "  if __name__ == '__main__':\n"
          ],
          "name": "stderr"
        }
      ]
    },
    {
      "cell_type": "code",
      "metadata": {
        "colab": {
          "base_uri": "https://localhost:8080/",
          "height": 72
        },
        "id": "5sJlscuvrpfs",
        "outputId": "6bedf213-efbd-48cc-d471-6641b0d1d70a"
      },
      "source": [
        "'''\n",
        "\n",
        "#Exploratory Data Analysis with Pandas Profiling\n",
        "\n",
        "#Installing Pandas Profiling\n",
        "!pip install https://github.com/pandas-profiling/pandas-profiling/archive/master.zip\n",
        "\n",
        "#Import function\n",
        "from pandas_profiling import ProfileReport\n",
        "\n",
        "'''\n"
      ],
      "execution_count": null,
      "outputs": [
        {
          "output_type": "execute_result",
          "data": {
            "application/vnd.google.colaboratory.intrinsic+json": {
              "type": "string"
            },
            "text/plain": [
              "'\\n\\n#Exploratory Data Analysis with Pandas Profiling\\n\\n#Installing Pandas Profiling\\n!pip install https://github.com/pandas-profiling/pandas-profiling/archive/master.zip\\n\\n#Import function\\nfrom pandas_profiling import ProfileReport\\n\\n'"
            ]
          },
          "metadata": {
            "tags": []
          },
          "execution_count": 20
        }
      ]
    },
    {
      "cell_type": "code",
      "metadata": {
        "id": "7LCKWaEQRtr7"
      },
      "source": [
        "#Create report and save it in html\n",
        "#profile = ProfileReport(df_members,title='report of members',html={'style':{'full_width':True}})\n"
      ],
      "execution_count": null,
      "outputs": []
    },
    {
      "cell_type": "code",
      "metadata": {
        "id": "q9_lluvGtMyE"
      },
      "source": [
        "'''\n",
        "#Exporting Report\n",
        "\n",
        "profile.to_notebook_iframe()\n",
        "\n",
        "'''\n",
        "#Exporting df_members\n",
        "\n",
        "df_members.to_csv('/content/drive/MyDrive/Colab Notebooks/KKBOX/df_members.csv')"
      ],
      "execution_count": null,
      "outputs": []
    },
    {
      "cell_type": "code",
      "metadata": {
        "id": "Ja-sEOMnMpnj"
      },
      "source": [
        ""
      ],
      "execution_count": null,
      "outputs": []
    }
  ]
}