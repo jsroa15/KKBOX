{
  "nbformat": 4,
  "nbformat_minor": 0,
  "metadata": {
    "colab": {
      "name": "Members data mining.ipynb",
      "provenance": [],
      "collapsed_sections": [],
      "mount_file_id": "1zVsITbRb36_Ouyp1KCIIuYbCI-LlWk6l",
      "authorship_tag": "ABX9TyNrXti9+UO4YH6OsMJbjk3i",
      "include_colab_link": true
    },
    "kernelspec": {
      "name": "python3",
      "display_name": "Python 3"
    }
  },
  "cells": [
    {
      "cell_type": "markdown",
      "metadata": {
        "id": "view-in-github",
        "colab_type": "text"
      },
      "source": [
        "<a href=\"https://colab.research.google.com/github/jsroa15/KKBOX/blob/main/Members_data_mining.ipynb\" target=\"_parent\"><img src=\"https://colab.research.google.com/assets/colab-badge.svg\" alt=\"Open In Colab\"/></a>"
      ]
    },
    {
      "cell_type": "markdown",
      "metadata": {
        "id": "04cK1diXQoF2"
      },
      "source": [
        "# Members data\r\n",
        "\r\n",
        "The main idea here is to explore the members dataset.\r\n",
        "\r\n",
        "**Exploratory Data Analysis**\r\n",
        "\r\n",
        "1.  Load data\r\n",
        "2.  General statistics\r\n",
        "3.  Data Visualization\r\n",
        "4.  Data Cleaning\r\n",
        "5.  Fixing formats\r\n"
      ]
    },
    {
      "cell_type": "markdown",
      "metadata": {
        "id": "xdQcc3RGQ1cV"
      },
      "source": [
        "# **Explorator Data Analysis**"
      ]
    },
    {
      "cell_type": "markdown",
      "metadata": {
        "id": "lny_byNVRIzG"
      },
      "source": [
        "## 1. Load Data"
      ]
    },
    {
      "cell_type": "code",
      "metadata": {
        "id": "KQtggMdSE8Wr"
      },
      "source": [
        "#Import\n",
        "\n",
        "import pandas as pd\n",
        "import matplotlib.pyplot as plt\n",
        "import seaborn as sns\n",
        "import numpy as np"
      ],
      "execution_count": null,
      "outputs": []
    },
    {
      "cell_type": "code",
      "metadata": {
        "id": "d2gxLkJoFFRC"
      },
      "source": [
        "#Loading data\n",
        "\n",
        "members=pd.read_csv('/content/drive/MyDrive/Colab Notebooks/KKBOX/members_v3.csv')"
      ],
      "execution_count": null,
      "outputs": []
    },
    {
      "cell_type": "markdown",
      "metadata": {
        "id": "eB6eQCrdRQKN"
      },
      "source": [
        "## 2. General Statistics"
      ]
    },
    {
      "cell_type": "code",
      "metadata": {
        "colab": {
          "base_uri": "https://localhost:8080/",
          "height": 204
        },
        "id": "z9QvJpmRFcPK",
        "outputId": "4725445b-ca66-4c2c-8f08-4212ff745fd5"
      },
      "source": [
        "#Exploring data\n",
        "\n",
        "members.head()\n"
      ],
      "execution_count": null,
      "outputs": [
        {
          "output_type": "execute_result",
          "data": {
            "text/html": [
              "<div>\n",
              "<style scoped>\n",
              "    .dataframe tbody tr th:only-of-type {\n",
              "        vertical-align: middle;\n",
              "    }\n",
              "\n",
              "    .dataframe tbody tr th {\n",
              "        vertical-align: top;\n",
              "    }\n",
              "\n",
              "    .dataframe thead th {\n",
              "        text-align: right;\n",
              "    }\n",
              "</style>\n",
              "<table border=\"1\" class=\"dataframe\">\n",
              "  <thead>\n",
              "    <tr style=\"text-align: right;\">\n",
              "      <th></th>\n",
              "      <th>msno</th>\n",
              "      <th>city</th>\n",
              "      <th>bd</th>\n",
              "      <th>gender</th>\n",
              "      <th>registered_via</th>\n",
              "      <th>registration_init_time</th>\n",
              "    </tr>\n",
              "  </thead>\n",
              "  <tbody>\n",
              "    <tr>\n",
              "      <th>0</th>\n",
              "      <td>Rb9UwLQTrxzBVwCB6+bCcSQWZ9JiNLC9dXtM1oEsZA8=</td>\n",
              "      <td>1</td>\n",
              "      <td>0</td>\n",
              "      <td>NaN</td>\n",
              "      <td>11</td>\n",
              "      <td>20110911</td>\n",
              "    </tr>\n",
              "    <tr>\n",
              "      <th>1</th>\n",
              "      <td>+tJonkh+O1CA796Fm5X60UMOtB6POHAwPjbTRVl/EuU=</td>\n",
              "      <td>1</td>\n",
              "      <td>0</td>\n",
              "      <td>NaN</td>\n",
              "      <td>7</td>\n",
              "      <td>20110914</td>\n",
              "    </tr>\n",
              "    <tr>\n",
              "      <th>2</th>\n",
              "      <td>cV358ssn7a0f7jZOwGNWS07wCKVqxyiImJUX6xcIwKw=</td>\n",
              "      <td>1</td>\n",
              "      <td>0</td>\n",
              "      <td>NaN</td>\n",
              "      <td>11</td>\n",
              "      <td>20110915</td>\n",
              "    </tr>\n",
              "    <tr>\n",
              "      <th>3</th>\n",
              "      <td>9bzDeJP6sQodK73K5CBlJ6fgIQzPeLnRl0p5B77XP+g=</td>\n",
              "      <td>1</td>\n",
              "      <td>0</td>\n",
              "      <td>NaN</td>\n",
              "      <td>11</td>\n",
              "      <td>20110915</td>\n",
              "    </tr>\n",
              "    <tr>\n",
              "      <th>4</th>\n",
              "      <td>WFLY3s7z4EZsieHCt63XrsdtfTEmJ+2PnnKLH5GY4Tk=</td>\n",
              "      <td>6</td>\n",
              "      <td>32</td>\n",
              "      <td>female</td>\n",
              "      <td>9</td>\n",
              "      <td>20110915</td>\n",
              "    </tr>\n",
              "  </tbody>\n",
              "</table>\n",
              "</div>"
            ],
            "text/plain": [
              "                                           msno  ...  registration_init_time\n",
              "0  Rb9UwLQTrxzBVwCB6+bCcSQWZ9JiNLC9dXtM1oEsZA8=  ...                20110911\n",
              "1  +tJonkh+O1CA796Fm5X60UMOtB6POHAwPjbTRVl/EuU=  ...                20110914\n",
              "2  cV358ssn7a0f7jZOwGNWS07wCKVqxyiImJUX6xcIwKw=  ...                20110915\n",
              "3  9bzDeJP6sQodK73K5CBlJ6fgIQzPeLnRl0p5B77XP+g=  ...                20110915\n",
              "4  WFLY3s7z4EZsieHCt63XrsdtfTEmJ+2PnnKLH5GY4Tk=  ...                20110915\n",
              "\n",
              "[5 rows x 6 columns]"
            ]
          },
          "metadata": {
            "tags": []
          },
          "execution_count": 16
        }
      ]
    },
    {
      "cell_type": "code",
      "metadata": {
        "colab": {
          "base_uri": "https://localhost:8080/"
        },
        "id": "J8LRrGAvRhMd",
        "outputId": "e430cb7f-61bb-4f3f-e60d-2c97c00a4019"
      },
      "source": [
        "#Information from dataset\r\n",
        "\r\n",
        "members.info()"
      ],
      "execution_count": null,
      "outputs": [
        {
          "output_type": "stream",
          "text": [
            "<class 'pandas.core.frame.DataFrame'>\n",
            "RangeIndex: 6769473 entries, 0 to 6769472\n",
            "Data columns (total 6 columns):\n",
            " #   Column                  Dtype \n",
            "---  ------                  ----- \n",
            " 0   msno                    object\n",
            " 1   city                    int64 \n",
            " 2   bd                      int64 \n",
            " 3   gender                  object\n",
            " 4   registered_via          int64 \n",
            " 5   registration_init_time  int64 \n",
            "dtypes: int64(4), object(2)\n",
            "memory usage: 309.9+ MB\n"
          ],
          "name": "stdout"
        }
      ]
    },
    {
      "cell_type": "code",
      "metadata": {
        "colab": {
          "base_uri": "https://localhost:8080/",
          "height": 297
        },
        "id": "UpucIAs8R1Ir",
        "outputId": "8e61f6a9-8171-45a7-934d-ac7114e71021"
      },
      "source": [
        "#Summary Statistics\r\n",
        "\r\n",
        "round(members.describe())"
      ],
      "execution_count": null,
      "outputs": [
        {
          "output_type": "execute_result",
          "data": {
            "text/html": [
              "<div>\n",
              "<style scoped>\n",
              "    .dataframe tbody tr th:only-of-type {\n",
              "        vertical-align: middle;\n",
              "    }\n",
              "\n",
              "    .dataframe tbody tr th {\n",
              "        vertical-align: top;\n",
              "    }\n",
              "\n",
              "    .dataframe thead th {\n",
              "        text-align: right;\n",
              "    }\n",
              "</style>\n",
              "<table border=\"1\" class=\"dataframe\">\n",
              "  <thead>\n",
              "    <tr style=\"text-align: right;\">\n",
              "      <th></th>\n",
              "      <th>city</th>\n",
              "      <th>bd</th>\n",
              "      <th>registered_via</th>\n",
              "      <th>registration_init_time</th>\n",
              "    </tr>\n",
              "  </thead>\n",
              "  <tbody>\n",
              "    <tr>\n",
              "      <th>count</th>\n",
              "      <td>6769473.0</td>\n",
              "      <td>6769473.0</td>\n",
              "      <td>6769473.0</td>\n",
              "      <td>6769473.0</td>\n",
              "    </tr>\n",
              "    <tr>\n",
              "      <th>mean</th>\n",
              "      <td>4.0</td>\n",
              "      <td>10.0</td>\n",
              "      <td>5.0</td>\n",
              "      <td>20145176.0</td>\n",
              "    </tr>\n",
              "    <tr>\n",
              "      <th>std</th>\n",
              "      <td>5.0</td>\n",
              "      <td>18.0</td>\n",
              "      <td>2.0</td>\n",
              "      <td>23186.0</td>\n",
              "    </tr>\n",
              "    <tr>\n",
              "      <th>min</th>\n",
              "      <td>1.0</td>\n",
              "      <td>-7168.0</td>\n",
              "      <td>-1.0</td>\n",
              "      <td>20040326.0</td>\n",
              "    </tr>\n",
              "    <tr>\n",
              "      <th>25%</th>\n",
              "      <td>1.0</td>\n",
              "      <td>0.0</td>\n",
              "      <td>4.0</td>\n",
              "      <td>20140422.0</td>\n",
              "    </tr>\n",
              "    <tr>\n",
              "      <th>50%</th>\n",
              "      <td>1.0</td>\n",
              "      <td>0.0</td>\n",
              "      <td>4.0</td>\n",
              "      <td>20151010.0</td>\n",
              "    </tr>\n",
              "    <tr>\n",
              "      <th>75%</th>\n",
              "      <td>4.0</td>\n",
              "      <td>21.0</td>\n",
              "      <td>7.0</td>\n",
              "      <td>20160604.0</td>\n",
              "    </tr>\n",
              "    <tr>\n",
              "      <th>max</th>\n",
              "      <td>22.0</td>\n",
              "      <td>2016.0</td>\n",
              "      <td>19.0</td>\n",
              "      <td>20170429.0</td>\n",
              "    </tr>\n",
              "  </tbody>\n",
              "</table>\n",
              "</div>"
            ],
            "text/plain": [
              "            city         bd  registered_via  registration_init_time\n",
              "count  6769473.0  6769473.0       6769473.0               6769473.0\n",
              "mean         4.0       10.0             5.0              20145176.0\n",
              "std          5.0       18.0             2.0                 23186.0\n",
              "min          1.0    -7168.0            -1.0              20040326.0\n",
              "25%          1.0        0.0             4.0              20140422.0\n",
              "50%          1.0        0.0             4.0              20151010.0\n",
              "75%          4.0       21.0             7.0              20160604.0\n",
              "max         22.0     2016.0            19.0              20170429.0"
            ]
          },
          "metadata": {
            "tags": []
          },
          "execution_count": 16
        }
      ]
    },
    {
      "cell_type": "markdown",
      "metadata": {
        "id": "SI7F6lXtSHSO"
      },
      "source": [
        "In this case the information provided from the above is not really useful, because most all the features are categorical and must be correctly encoded."
      ]
    },
    {
      "cell_type": "code",
      "metadata": {
        "colab": {
          "base_uri": "https://localhost:8080/",
          "height": 235
        },
        "id": "D-rIHHakSaE-",
        "outputId": "91abfc5d-97be-4754-f366-85226c9f4f51"
      },
      "source": [
        "# Missing values\r\n",
        "\r\n",
        "pd.DataFrame({'%missing_value':round(members.isna().sum()/members.shape[0]*100,2)})"
      ],
      "execution_count": null,
      "outputs": [
        {
          "output_type": "execute_result",
          "data": {
            "text/html": [
              "<div>\n",
              "<style scoped>\n",
              "    .dataframe tbody tr th:only-of-type {\n",
              "        vertical-align: middle;\n",
              "    }\n",
              "\n",
              "    .dataframe tbody tr th {\n",
              "        vertical-align: top;\n",
              "    }\n",
              "\n",
              "    .dataframe thead th {\n",
              "        text-align: right;\n",
              "    }\n",
              "</style>\n",
              "<table border=\"1\" class=\"dataframe\">\n",
              "  <thead>\n",
              "    <tr style=\"text-align: right;\">\n",
              "      <th></th>\n",
              "      <th>%missing_value</th>\n",
              "    </tr>\n",
              "  </thead>\n",
              "  <tbody>\n",
              "    <tr>\n",
              "      <th>msno</th>\n",
              "      <td>0.00</td>\n",
              "    </tr>\n",
              "    <tr>\n",
              "      <th>city</th>\n",
              "      <td>0.00</td>\n",
              "    </tr>\n",
              "    <tr>\n",
              "      <th>bd</th>\n",
              "      <td>0.00</td>\n",
              "    </tr>\n",
              "    <tr>\n",
              "      <th>gender</th>\n",
              "      <td>65.43</td>\n",
              "    </tr>\n",
              "    <tr>\n",
              "      <th>registered_via</th>\n",
              "      <td>0.00</td>\n",
              "    </tr>\n",
              "    <tr>\n",
              "      <th>registration_init_time</th>\n",
              "      <td>0.00</td>\n",
              "    </tr>\n",
              "  </tbody>\n",
              "</table>\n",
              "</div>"
            ],
            "text/plain": [
              "                        %missing_value\n",
              "msno                              0.00\n",
              "city                              0.00\n",
              "bd                                0.00\n",
              "gender                           65.43\n",
              "registered_via                    0.00\n",
              "registration_init_time            0.00"
            ]
          },
          "metadata": {
            "tags": []
          },
          "execution_count": 15
        }
      ]
    },
    {
      "cell_type": "markdown",
      "metadata": {
        "id": "iN0oGafFTrB9"
      },
      "source": [
        "We have more than 50% of missing data in feature ```gender``` in later steps we are going to replace missing values wiht another category that replace missing values."
      ]
    },
    {
      "cell_type": "code",
      "metadata": {
        "colab": {
          "base_uri": "https://localhost:8080/"
        },
        "id": "vKNSx3VMFuvS",
        "outputId": "1f0cfda8-30b0-412e-bf48-17d0716b98c7"
      },
      "source": [
        "#Duplicate records on msno\n",
        "\n",
        "print('\\nnumber of unique counts per msno: ',members.msno.nunique())"
      ],
      "execution_count": null,
      "outputs": [
        {
          "output_type": "stream",
          "text": [
            "\n",
            "number of unique counts per msno:  6769473\n"
          ],
          "name": "stdout"
        }
      ]
    },
    {
      "cell_type": "markdown",
      "metadata": {
        "id": "Ed5IQy56UP_c"
      },
      "source": [
        "There's no duplicates on the dataset."
      ]
    },
    {
      "cell_type": "markdown",
      "metadata": {
        "id": "VBWGOVIVYG7q"
      },
      "source": [
        "## 3. Data Visualization"
      ]
    },
    {
      "cell_type": "code",
      "metadata": {
        "id": "EARSd2CBYmXC"
      },
      "source": [
        "members.columns\r\n",
        "\r\n",
        "categorical=[x for x in members.columns if x not in ['bd','registration_init_time','msno']]"
      ],
      "execution_count": null,
      "outputs": []
    },
    {
      "cell_type": "code",
      "metadata": {
        "colab": {
          "base_uri": "https://localhost:8080/",
          "height": 1000
        },
        "id": "eNQSSdweZdG-",
        "outputId": "7f599199-3eee-4de4-81a3-11a549985f45"
      },
      "source": [
        "sns.set_theme(style=\"darkgrid\")\r\n",
        "\r\n",
        "for i in categorical:\r\n",
        "  plt.figure(figsize=(10,7))\r\n",
        "  sns.countplot(data=members,x=i,)\r\n",
        "  #plt.show()"
      ],
      "execution_count": null,
      "outputs": [
        {
          "output_type": "display_data",
          "data": {
            "image/png": "[encoded data removed]",
            "text/plain": [
              "<Figure size 720x504 with 1 Axes>"
            ]
          },
          "metadata": {
            "tags": []
          }
        },
        {
          "output_type": "display_data",
          "data": {
            "image/png": "[encoded data removed]",
            "text/plain": [
              "<Figure size 720x504 with 1 Axes>"
            ]
          },
          "metadata": {
            "tags": []
          }
        },
        {
          "output_type": "display_data",
          "data": {
            "image/png": "[encoded data removed]",
            "text/plain": [
              "<Figure size 720x504 with 1 Axes>"
            ]
          },
          "metadata": {
            "tags": []
          }
        }
      ]
    },
    {
      "cell_type": "markdown",
      "metadata": {
        "id": "gvlTJ5tyRh-l"
      },
      "source": [
        "From the above we can see that most of the suscription occur in city #1, although we have more than 60% of missing data in gender, the proportion of men and women is almost the same. Finally, in registered_via we can observe that most of the subscriptions occur in categories 3,4,7, and 9.\r\n",
        "\r\n",
        "Now let's explore the age of the users:"
      ]
    },
    {
      "cell_type": "code",
      "metadata": {
        "colab": {
          "base_uri": "https://localhost:8080/",
          "height": 459
        },
        "id": "wdEaLpwNSUhX",
        "outputId": "6a68632c-2f18-4e5e-a38d-3123535f3f66"
      },
      "source": [
        "plt.figure(figsize=(10,7))\r\n",
        "members.bd.plot(kind='hist',bins=50)\r\n"
      ],
      "execution_count": null,
      "outputs": [
        {
          "output_type": "execute_result",
          "data": {
            "text/plain": [
              "<matplotlib.axes._subplots.AxesSubplot at 0x7f81ce966908>"
            ]
          },
          "metadata": {
            "tags": []
          },
          "execution_count": 14
        },
        {
          "output_type": "display_data",
          "data": {
            "image/png": "[encoded data removed]",
            "text/plain": [
              "<Figure size 720x504 with 1 Axes>"
            ]
          },
          "metadata": {
            "tags": []
          }
        }
      ]
    },
    {
      "cell_type": "code",
      "metadata": {
        "colab": {
          "base_uri": "https://localhost:8080/",
          "height": 465
        },
        "id": "owLGbq1XTc_m",
        "outputId": "509b95ae-8850-4fad-a820-94c5d4841151"
      },
      "source": [
        "plt.figure(figsize=(10,7))\r\n",
        "sns.boxplot(data=members,x='bd')"
      ],
      "execution_count": null,
      "outputs": [
        {
          "output_type": "execute_result",
          "data": {
            "text/plain": [
              "<matplotlib.axes._subplots.AxesSubplot at 0x7f81dad361d0>"
            ]
          },
          "metadata": {
            "tags": []
          },
          "execution_count": 10
        },
        {
          "output_type": "display_data",
          "data": {
            "image/png": "[encoded data removed]",
            "text/plain": [
              "<Figure size 720x504 with 1 Axes>"
            ]
          },
          "metadata": {
            "tags": []
          }
        }
      ]
    },
    {
      "cell_type": "markdown",
      "metadata": {
        "id": "batx91b8lfGc"
      },
      "source": [
        "We can see that feature ```bd``` has a big amount of outliers. We have to perform feature engineering to fix that later."
      ]
    },
    {
      "cell_type": "markdown",
      "metadata": {
        "id": "VIonW6uPTYWQ"
      },
      "source": [
        "## 4. Data Cleaning"
      ]
    },
    {
      "cell_type": "code",
      "metadata": {
        "colab": {
          "base_uri": "https://localhost:8080/"
        },
        "id": "icduoHW1TcMr",
        "outputId": "9c9ed92d-315a-4dec-cd71-0d6398438fca"
      },
      "source": [
        "#Checking duplicates\r\n",
        "\r\n",
        "print('Number of records in dataset: ',members.shape[0])\r\n",
        "print('Number of unique records: ',members.msno.nunique())"
      ],
      "execution_count": null,
      "outputs": [
        {
          "output_type": "stream",
          "text": [
            "Number of records in dataset:  6769473\n",
            "Number of unique records:  6769473\n"
          ],
          "name": "stdout"
        }
      ]
    },
    {
      "cell_type": "markdown",
      "metadata": {
        "id": "qs4c21oKT2Qq"
      },
      "source": [
        "We have no duplicated records in the dataset.\r\n",
        "\r\n",
        "The feature ```gender``` has more than 60% of missing values, it's common to drop features with more than 60% of  missingnes, however, we consider that feature as relevante, so, we are going to replace NaN values with a another category."
      ]
    },
    {
      "cell_type": "code",
      "metadata": {
        "id": "VKDcFDq1vFOZ"
      },
      "source": [
        "#Replacing missing values in gender\r\n",
        "\r\n",
        "members.gender.fillna('other',inplace=True)"
      ],
      "execution_count": null,
      "outputs": []
    },
    {
      "cell_type": "markdown",
      "metadata": {
        "id": "7ptMDTFEVEYo"
      },
      "source": [
        "## 5. Fixing formats"
      ]
    },
    {
      "cell_type": "code",
      "metadata": {
        "colab": {
          "base_uri": "https://localhost:8080/"
        },
        "id": "PPQxyB3lVIhP",
        "outputId": "63e7562b-c955-41dd-ef99-2c360c49e940"
      },
      "source": [
        "#Changing features format\r\n",
        "\r\n",
        "members.registration_init_time=members.registration_init_time.astype('str')\r\n",
        "members.city=members.city.astype('str')\r\n",
        "members.registered_via=members.registered_via.astype('str')\r\n",
        "\r\n",
        "members.info()"
      ],
      "execution_count": null,
      "outputs": [
        {
          "output_type": "stream",
          "text": [
            "<class 'pandas.core.frame.DataFrame'>\n",
            "RangeIndex: 6769473 entries, 0 to 6769472\n",
            "Data columns (total 6 columns):\n",
            " #   Column                  Dtype \n",
            "---  ------                  ----- \n",
            " 0   msno                    object\n",
            " 1   city                    object\n",
            " 2   bd                      int64 \n",
            " 3   gender                  object\n",
            " 4   registered_via          object\n",
            " 5   registration_init_time  object\n",
            "dtypes: int64(1), object(5)\n",
            "memory usage: 309.9+ MB\n"
          ],
          "name": "stdout"
        }
      ]
    },
    {
      "cell_type": "code",
      "metadata": {
        "id": "dKypmufPWXR3"
      },
      "source": [
        "#Changing date format\r\n",
        "\r\n",
        "members.registration_init_time=pd.to_datetime(members.registration_init_time)"
      ],
      "execution_count": null,
      "outputs": []
    },
    {
      "cell_type": "code",
      "metadata": {
        "colab": {
          "base_uri": "https://localhost:8080/"
        },
        "id": "SUM12G94eql4",
        "outputId": "f965c6d3-9c88-45c5-9f74-4d294b10dae8"
      },
      "source": [
        "members.registration_init_time"
      ],
      "execution_count": null,
      "outputs": [
        {
          "output_type": "execute_result",
          "data": {
            "text/plain": [
              "0         2011-09-11\n",
              "1         2011-09-14\n",
              "2         2011-09-15\n",
              "3         2011-09-15\n",
              "4         2011-09-15\n",
              "             ...    \n",
              "6769468   2015-10-20\n",
              "6769469   2015-10-20\n",
              "6769470   2015-10-20\n",
              "6769471   2015-10-20\n",
              "6769472   2015-10-21\n",
              "Name: registration_init_time, Length: 6769473, dtype: datetime64[ns]"
            ]
          },
          "metadata": {
            "tags": []
          },
          "execution_count": 21
        }
      ]
    },
    {
      "cell_type": "code",
      "metadata": {
        "id": "q9_lluvGtMyE"
      },
      "source": [
        "\n",
        "#Exporting df_members\n",
        "\n",
        "members.to_csv('/content/drive/MyDrive/Colab Notebooks/KKBOX/df_members.csv',index=False)"
      ],
      "execution_count": null,
      "outputs": []
    },
    {
      "cell_type": "code",
      "metadata": {
        "id": "Ja-sEOMnMpnj"
      },
      "source": [
        ""
      ],
      "execution_count": null,
      "outputs": []
    }
  ]
}