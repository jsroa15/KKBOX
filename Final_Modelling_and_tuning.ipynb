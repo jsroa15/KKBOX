{
  "nbformat": 4,
  "nbformat_minor": 0,
  "metadata": {
    "colab": {
      "name": "Final Modelling and tuning.ipynb",
      "provenance": [],
      "collapsed_sections": [],
      "authorship_tag": "ABX9TyPQUafuYPfetltMMJCCramw",
      "include_colab_link": true
    },
    "kernelspec": {
      "name": "python3",
      "display_name": "Python 3"
    }
  },
  "cells": [
    {
      "cell_type": "markdown",
      "metadata": {
        "id": "view-in-github",
        "colab_type": "text"
      },
      "source": [
        "<a href=\"https://colab.research.google.com/github/jsroa15/KKBOX/blob/main/Final_Modelling_and_tuning.ipynb\" target=\"_parent\"><img src=\"https://colab.research.google.com/assets/colab-badge.svg\" alt=\"Open In Colab\"/></a>"
      ]
    },
    {
      "cell_type": "code",
      "metadata": {
        "id": "rjalIEJG4YOD"
      },
      "source": [
        "X_train_smote_csv.to_csv('/content/drive/MyDrive/Colab Notebooks/KKBOX/X_train_smote_csv.csv',index=False)\r\n",
        "y_train_smote_csv.to_csv('/content/drive/MyDrive/Colab Notebooks/KKBOX/y_train_smote_csv.csv',index=False)\r\n",
        "y_train.to_csv('/content/drive/MyDrive/Colab Notebooks/KKBOX/y_train.csv',index=False)\r\n",
        "X_train.to_csv('/content/drive/MyDrive/Colab Notebooks/KKBOX/X_train.csv',index=False)\r\n",
        "y_test.to_csv('/content/drive/MyDrive/Colab Notebooks/KKBOX/y_test.csv',index=False)\r\n",
        "X_test.to_csv('/content/drive/MyDrive/Colab Notebooks/KKBOX/X_test.csv',index=False)"
      ],
      "execution_count": null,
      "outputs": []
    }
  ]
}