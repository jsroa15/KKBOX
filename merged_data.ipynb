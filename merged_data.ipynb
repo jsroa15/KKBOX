{
  "nbformat": 4,
  "nbformat_minor": 0,
  "metadata": {
    "colab": {
      "name": "merged_data.ipynb",
      "provenance": [],
      "toc_visible": true,
      "mount_file_id": "1nIrxMdFYA9wNcOpHL7p3RHeY95dL5MT2",
      "authorship_tag": "ABX9TyNjmf7FH56BGapvkPyKponw",
      "include_colab_link": true
    },
    "kernelspec": {
      "name": "python3",
      "display_name": "Python 3"
    }
  },
  "cells": [
    {
      "cell_type": "markdown",
      "metadata": {
        "id": "view-in-github",
        "colab_type": "text"
      },
      "source": [
        "<a href=\"https://colab.research.google.com/github/jsroa15/KKBOX/blob/main/merged_data.ipynb\" target=\"_parent\"><img src=\"https://colab.research.google.com/assets/colab-badge.svg\" alt=\"Open In Colab\"/></a>"
      ]
    },
    {
      "cell_type": "markdown",
      "metadata": {
        "id": "zSsp6YJcOT-3"
      },
      "source": [
        "The objective is to merge all datasets to create a final dataset to train and evaluate our final model. As always, we are going to follow the structure of EDA and Feature Engineering.\r\n",
        "\r\n",
        "**Exploratory Data Analysis**\r\n",
        "\r\n",
        "1.  Load data\r\n",
        "2.  Merge all dataset\r\n",
        "2.  General statistics\r\n",
        "3.  Data Visualization\r\n",
        "4.  Data Cleaning\r\n",
        "5.  Fixing formats\r\n",
        "\r\n",
        "**Feature Engineering**\r\n",
        "7.  Create new features\r\n",
        "6.  Data Transformation\r\n",
        "7.  Outlier detection\r\n",
        "8.  Scaling features (optional)\r\n",
        "9.  Create a dataframe grouped by user id"
      ]
    },
    {
      "cell_type": "markdown",
      "metadata": {
        "id": "-FBsWUZ0PYKe"
      },
      "source": [
        "**Import packages**"
      ]
    },
    {
      "cell_type": "code",
      "metadata": {
        "id": "O7AJhAx1Pa5w"
      },
      "source": [
        "import pandas as pd\r\n",
        "import matplotlib.pyplot as plt\r\n",
        "import seaborn as sns\r\n",
        "import numpy as np"
      ],
      "execution_count": 1,
      "outputs": []
    },
    {
      "cell_type": "markdown",
      "metadata": {
        "id": "6X7uHbIEPOT4"
      },
      "source": [
        "# **Exploratory Data Analysis**\r\n"
      ]
    },
    {
      "cell_type": "markdown",
      "metadata": {
        "id": "bROcxEL-PUOo"
      },
      "source": [
        "## 1. Load Data"
      ]
    },
    {
      "cell_type": "code",
      "metadata": {
        "id": "4GxeuK8fN4Hh"
      },
      "source": [
        "df=pd.read_csv('/content/drive/MyDrive/Colab Notebooks/KKBOX/train.csv')\r\n",
        "transactions=pd.read_csv('/content/drive/MyDrive/Colab Notebooks/KKBOX/df_transactions.csv')\r\n",
        "users=pd.read_csv('/content/drive/MyDrive/Colab Notebooks/KKBOX/df_members.csv')\r\n",
        "logs=pd.read_csv('/content/drive/MyDrive/Colab Notebooks/KKBOX/df_logs.csv')"
      ],
      "execution_count": 3,
      "outputs": []
    },
    {
      "cell_type": "markdown",
      "metadata": {
        "id": "O3qjNOvyXUKd"
      },
      "source": [
        "## 2. Merge all datasets"
      ]
    },
    {
      "cell_type": "code",
      "metadata": {
        "id": "G7B5lfM0XXZg"
      },
      "source": [
        "df=df.merge(transactions,on='msno',how='left')\r\n",
        "df=df.merge(users,on='msno',how='left')\r\n",
        "df=df.merge(logs,on='msno',how='left')"
      ],
      "execution_count": 4,
      "outputs": []
    },
    {
      "cell_type": "markdown",
      "metadata": {
        "id": "XdSj6JOjX9W_"
      },
      "source": [
        "# 3. General Statistics"
      ]
    },
    {
      "cell_type": "code",
      "metadata": {
        "colab": {
          "base_uri": "https://localhost:8080/",
          "height": 224
        },
        "id": "V01UOGnMYAWJ",
        "outputId": "f9d5c96a-5de4-4f6b-9928-581d31e625e9"
      },
      "source": [
        "#First rows of the dataset\r\n",
        "\r\n",
        "df.head()"
      ],
      "execution_count": 5,
      "outputs": [
        {
          "output_type": "execute_result",
          "data": {
            "text/html": [
              "<div>\n",
              "<style scoped>\n",
              "    .dataframe tbody tr th:only-of-type {\n",
              "        vertical-align: middle;\n",
              "    }\n",
              "\n",
              "    .dataframe tbody tr th {\n",
              "        vertical-align: top;\n",
              "    }\n",
              "\n",
              "    .dataframe thead th {\n",
              "        text-align: right;\n",
              "    }\n",
              "</style>\n",
              "<table border=\"1\" class=\"dataframe\">\n",
              "  <thead>\n",
              "    <tr style=\"text-align: right;\">\n",
              "      <th></th>\n",
              "      <th>msno</th>\n",
              "      <th>is_churn</th>\n",
              "      <th>regist_trans</th>\n",
              "      <th>mst_frq_plan_days</th>\n",
              "      <th>mst_frq_pay_met</th>\n",
              "      <th>revenue</th>\n",
              "      <th>is_auto_renew</th>\n",
              "      <th>regist_cancels</th>\n",
              "      <th>qtr_trans</th>\n",
              "      <th>city</th>\n",
              "      <th>bd</th>\n",
              "      <th>gender</th>\n",
              "      <th>registered_via</th>\n",
              "      <th>registration_init_time</th>\n",
              "      <th>num_25</th>\n",
              "      <th>num_50</th>\n",
              "      <th>num_75</th>\n",
              "      <th>num_985</th>\n",
              "      <th>num_100</th>\n",
              "      <th>num_unq</th>\n",
              "      <th>total_secs</th>\n",
              "    </tr>\n",
              "  </thead>\n",
              "  <tbody>\n",
              "    <tr>\n",
              "      <th>0</th>\n",
              "      <td>waLDQMmcOu2jLDaV1ddDkgCrB/jl6sD66Xzs0Vqax1Y=</td>\n",
              "      <td>1</td>\n",
              "      <td>2</td>\n",
              "      <td>7</td>\n",
              "      <td>38</td>\n",
              "      <td>149</td>\n",
              "      <td>0</td>\n",
              "      <td>0</td>\n",
              "      <td>1</td>\n",
              "      <td>18.0</td>\n",
              "      <td>36.0</td>\n",
              "      <td>female</td>\n",
              "      <td>9.0</td>\n",
              "      <td>2005-04-06</td>\n",
              "      <td>0.621227</td>\n",
              "      <td>0.274653</td>\n",
              "      <td>0.447940</td>\n",
              "      <td>0.173287</td>\n",
              "      <td>2.880669</td>\n",
              "      <td>2.962292</td>\n",
              "      <td>8.440285</td>\n",
              "    </tr>\n",
              "    <tr>\n",
              "      <th>1</th>\n",
              "      <td>QA7uiXy8vIbUSPOkCf9RwQ3FsT8jVq2OxDr8zqa7bRQ=</td>\n",
              "      <td>1</td>\n",
              "      <td>23</td>\n",
              "      <td>30</td>\n",
              "      <td>39</td>\n",
              "      <td>3458</td>\n",
              "      <td>1</td>\n",
              "      <td>2</td>\n",
              "      <td>3</td>\n",
              "      <td>10.0</td>\n",
              "      <td>38.0</td>\n",
              "      <td>male</td>\n",
              "      <td>9.0</td>\n",
              "      <td>2005-04-07</td>\n",
              "      <td>0.444694</td>\n",
              "      <td>0.193904</td>\n",
              "      <td>0.175250</td>\n",
              "      <td>0.179176</td>\n",
              "      <td>2.601858</td>\n",
              "      <td>2.342516</td>\n",
              "      <td>8.087119</td>\n",
              "    </tr>\n",
              "    <tr>\n",
              "      <th>2</th>\n",
              "      <td>fGwBva6hikQmTJzrbz/2Ezjm5Cth5jZUNvXigKK2AFA=</td>\n",
              "      <td>1</td>\n",
              "      <td>10</td>\n",
              "      <td>30</td>\n",
              "      <td>39</td>\n",
              "      <td>1492</td>\n",
              "      <td>1</td>\n",
              "      <td>1</td>\n",
              "      <td>1</td>\n",
              "      <td>11.0</td>\n",
              "      <td>27.0</td>\n",
              "      <td>female</td>\n",
              "      <td>9.0</td>\n",
              "      <td>2005-10-16</td>\n",
              "      <td>1.168699</td>\n",
              "      <td>0.469950</td>\n",
              "      <td>0.360776</td>\n",
              "      <td>0.499874</td>\n",
              "      <td>3.253308</td>\n",
              "      <td>3.355790</td>\n",
              "      <td>8.697465</td>\n",
              "    </tr>\n",
              "    <tr>\n",
              "      <th>3</th>\n",
              "      <td>mT5V8rEpa+8wuqi6x0DoVd3H5icMKkE9Prt49UlmK+4=</td>\n",
              "      <td>1</td>\n",
              "      <td>2</td>\n",
              "      <td>410</td>\n",
              "      <td>17</td>\n",
              "      <td>1788</td>\n",
              "      <td>0</td>\n",
              "      <td>0</td>\n",
              "      <td>1</td>\n",
              "      <td>13.0</td>\n",
              "      <td>23.0</td>\n",
              "      <td>female</td>\n",
              "      <td>9.0</td>\n",
              "      <td>2005-11-02</td>\n",
              "      <td>1.830671</td>\n",
              "      <td>1.018070</td>\n",
              "      <td>0.974649</td>\n",
              "      <td>0.850550</td>\n",
              "      <td>2.618528</td>\n",
              "      <td>2.699278</td>\n",
              "      <td>8.174752</td>\n",
              "    </tr>\n",
              "    <tr>\n",
              "      <th>4</th>\n",
              "      <td>XaPhtGLk/5UvvOYHcONTwsnH97P4eGECeq+BARGItRw=</td>\n",
              "      <td>1</td>\n",
              "      <td>8</td>\n",
              "      <td>30</td>\n",
              "      <td>38</td>\n",
              "      <td>3576</td>\n",
              "      <td>0</td>\n",
              "      <td>0</td>\n",
              "      <td>1</td>\n",
              "      <td>3.0</td>\n",
              "      <td>27.0</td>\n",
              "      <td>male</td>\n",
              "      <td>9.0</td>\n",
              "      <td>2005-12-28</td>\n",
              "      <td>0.757936</td>\n",
              "      <td>0.378817</td>\n",
              "      <td>0.493943</td>\n",
              "      <td>0.969785</td>\n",
              "      <td>4.400313</td>\n",
              "      <td>4.456234</td>\n",
              "      <td>9.985234</td>\n",
              "    </tr>\n",
              "  </tbody>\n",
              "</table>\n",
              "</div>"
            ],
            "text/plain": [
              "                                           msno  is_churn  ...   num_unq  total_secs\n",
              "0  waLDQMmcOu2jLDaV1ddDkgCrB/jl6sD66Xzs0Vqax1Y=         1  ...  2.962292    8.440285\n",
              "1  QA7uiXy8vIbUSPOkCf9RwQ3FsT8jVq2OxDr8zqa7bRQ=         1  ...  2.342516    8.087119\n",
              "2  fGwBva6hikQmTJzrbz/2Ezjm5Cth5jZUNvXigKK2AFA=         1  ...  3.355790    8.697465\n",
              "3  mT5V8rEpa+8wuqi6x0DoVd3H5icMKkE9Prt49UlmK+4=         1  ...  2.699278    8.174752\n",
              "4  XaPhtGLk/5UvvOYHcONTwsnH97P4eGECeq+BARGItRw=         1  ...  4.456234    9.985234\n",
              "\n",
              "[5 rows x 21 columns]"
            ]
          },
          "metadata": {
            "tags": []
          },
          "execution_count": 5
        }
      ]
    },
    {
      "cell_type": "code",
      "metadata": {
        "colab": {
          "base_uri": "https://localhost:8080/"
        },
        "id": "3i1U4Yp4Ycmv",
        "outputId": "cf5fc105-7e8e-4be1-8e2b-c4a99f095d79"
      },
      "source": [
        "#Basic info of the dataset\r\n",
        "\r\n",
        "df.info()"
      ],
      "execution_count": 6,
      "outputs": [
        {
          "output_type": "stream",
          "text": [
            "<class 'pandas.core.frame.DataFrame'>\n",
            "Int64Index: 992931 entries, 0 to 992930\n",
            "Data columns (total 21 columns):\n",
            " #   Column                  Non-Null Count   Dtype  \n",
            "---  ------                  --------------   -----  \n",
            " 0   msno                    992931 non-null  object \n",
            " 1   is_churn                992931 non-null  int64  \n",
            " 2   regist_trans            992931 non-null  int64  \n",
            " 3   mst_frq_plan_days       992931 non-null  int64  \n",
            " 4   mst_frq_pay_met         992931 non-null  int64  \n",
            " 5   revenue                 992931 non-null  int64  \n",
            " 6   is_auto_renew           992931 non-null  int64  \n",
            " 7   regist_cancels          992931 non-null  int64  \n",
            " 8   qtr_trans               992931 non-null  int64  \n",
            " 9   city                    877161 non-null  float64\n",
            " 10  bd                      877161 non-null  float64\n",
            " 11  gender                  877161 non-null  object \n",
            " 12  registered_via          877161 non-null  float64\n",
            " 13  registration_init_time  877161 non-null  object \n",
            " 14  num_25                  787844 non-null  float64\n",
            " 15  num_50                  787844 non-null  float64\n",
            " 16  num_75                  787844 non-null  float64\n",
            " 17  num_985                 787844 non-null  float64\n",
            " 18  num_100                 787844 non-null  float64\n",
            " 19  num_unq                 787844 non-null  float64\n",
            " 20  total_secs              787844 non-null  float64\n",
            "dtypes: float64(10), int64(8), object(3)\n",
            "memory usage: 166.7+ MB\n"
          ],
          "name": "stdout"
        }
      ]
    },
    {
      "cell_type": "markdown",
      "metadata": {
        "id": "LYEa2mpTaM1c"
      },
      "source": [
        "We have to fix some datatypes"
      ]
    },
    {
      "cell_type": "code",
      "metadata": {
        "colab": {
          "base_uri": "https://localhost:8080/",
          "height": 700
        },
        "id": "jz292FJtYqMZ",
        "outputId": "3ed3c9e5-d600-46bd-9bf8-dc520c4f5686"
      },
      "source": [
        "#Missing Values\r\n",
        "\r\n",
        "pd.DataFrame({'%MissingValues':round(df.isna().sum()/df.shape[0]*100,2)})"
      ],
      "execution_count": 9,
      "outputs": [
        {
          "output_type": "execute_result",
          "data": {
            "text/html": [
              "<div>\n",
              "<style scoped>\n",
              "    .dataframe tbody tr th:only-of-type {\n",
              "        vertical-align: middle;\n",
              "    }\n",
              "\n",
              "    .dataframe tbody tr th {\n",
              "        vertical-align: top;\n",
              "    }\n",
              "\n",
              "    .dataframe thead th {\n",
              "        text-align: right;\n",
              "    }\n",
              "</style>\n",
              "<table border=\"1\" class=\"dataframe\">\n",
              "  <thead>\n",
              "    <tr style=\"text-align: right;\">\n",
              "      <th></th>\n",
              "      <th>%MissingValues</th>\n",
              "    </tr>\n",
              "  </thead>\n",
              "  <tbody>\n",
              "    <tr>\n",
              "      <th>msno</th>\n",
              "      <td>0.00</td>\n",
              "    </tr>\n",
              "    <tr>\n",
              "      <th>is_churn</th>\n",
              "      <td>0.00</td>\n",
              "    </tr>\n",
              "    <tr>\n",
              "      <th>regist_trans</th>\n",
              "      <td>0.00</td>\n",
              "    </tr>\n",
              "    <tr>\n",
              "      <th>mst_frq_plan_days</th>\n",
              "      <td>0.00</td>\n",
              "    </tr>\n",
              "    <tr>\n",
              "      <th>mst_frq_pay_met</th>\n",
              "      <td>0.00</td>\n",
              "    </tr>\n",
              "    <tr>\n",
              "      <th>revenue</th>\n",
              "      <td>0.00</td>\n",
              "    </tr>\n",
              "    <tr>\n",
              "      <th>is_auto_renew</th>\n",
              "      <td>0.00</td>\n",
              "    </tr>\n",
              "    <tr>\n",
              "      <th>regist_cancels</th>\n",
              "      <td>0.00</td>\n",
              "    </tr>\n",
              "    <tr>\n",
              "      <th>qtr_trans</th>\n",
              "      <td>0.00</td>\n",
              "    </tr>\n",
              "    <tr>\n",
              "      <th>city</th>\n",
              "      <td>11.66</td>\n",
              "    </tr>\n",
              "    <tr>\n",
              "      <th>bd</th>\n",
              "      <td>11.66</td>\n",
              "    </tr>\n",
              "    <tr>\n",
              "      <th>gender</th>\n",
              "      <td>11.66</td>\n",
              "    </tr>\n",
              "    <tr>\n",
              "      <th>registered_via</th>\n",
              "      <td>11.66</td>\n",
              "    </tr>\n",
              "    <tr>\n",
              "      <th>registration_init_time</th>\n",
              "      <td>11.66</td>\n",
              "    </tr>\n",
              "    <tr>\n",
              "      <th>num_25</th>\n",
              "      <td>20.65</td>\n",
              "    </tr>\n",
              "    <tr>\n",
              "      <th>num_50</th>\n",
              "      <td>20.65</td>\n",
              "    </tr>\n",
              "    <tr>\n",
              "      <th>num_75</th>\n",
              "      <td>20.65</td>\n",
              "    </tr>\n",
              "    <tr>\n",
              "      <th>num_985</th>\n",
              "      <td>20.65</td>\n",
              "    </tr>\n",
              "    <tr>\n",
              "      <th>num_100</th>\n",
              "      <td>20.65</td>\n",
              "    </tr>\n",
              "    <tr>\n",
              "      <th>num_unq</th>\n",
              "      <td>20.65</td>\n",
              "    </tr>\n",
              "    <tr>\n",
              "      <th>total_secs</th>\n",
              "      <td>20.65</td>\n",
              "    </tr>\n",
              "  </tbody>\n",
              "</table>\n",
              "</div>"
            ],
            "text/plain": [
              "                        %MissingValues\n",
              "msno                              0.00\n",
              "is_churn                          0.00\n",
              "regist_trans                      0.00\n",
              "mst_frq_plan_days                 0.00\n",
              "mst_frq_pay_met                   0.00\n",
              "revenue                           0.00\n",
              "is_auto_renew                     0.00\n",
              "regist_cancels                    0.00\n",
              "qtr_trans                         0.00\n",
              "city                             11.66\n",
              "bd                               11.66\n",
              "gender                           11.66\n",
              "registered_via                   11.66\n",
              "registration_init_time           11.66\n",
              "num_25                           20.65\n",
              "num_50                           20.65\n",
              "num_75                           20.65\n",
              "num_985                          20.65\n",
              "num_100                          20.65\n",
              "num_unq                          20.65\n",
              "total_secs                       20.65"
            ]
          },
          "metadata": {
            "tags": []
          },
          "execution_count": 9
        }
      ]
    },
    {
      "cell_type": "markdown",
      "metadata": {
        "id": "koyltEDwZ1MF"
      },
      "source": [
        "We have some missing values, but in later stages we can find the way to impute them."
      ]
    },
    {
      "cell_type": "code",
      "metadata": {
        "colab": {
          "base_uri": "https://localhost:8080/"
        },
        "id": "sWsccpNvZeZY",
        "outputId": "f6114933-3d47-4588-a99d-9c31e9ac9d14"
      },
      "source": [
        "#Checking for duplicated values\r\n",
        "\r\n",
        "print(df.shape)\r\n",
        "print(df.msno.nunique())"
      ],
      "execution_count": 11,
      "outputs": [
        {
          "output_type": "stream",
          "text": [
            "(992931, 21)\n",
            "992931\n"
          ],
          "name": "stdout"
        }
      ]
    },
    {
      "cell_type": "markdown",
      "metadata": {
        "id": "n_yjYnW_aADM"
      },
      "source": [
        "There are no duplicated values in the dataset."
      ]
    },
    {
      "cell_type": "markdown",
      "metadata": {
        "id": "3M-WIMaAaZjy"
      },
      "source": [
        "# 4. Data Visualization\r\n",
        "\r\n",
        "Let's explore the data visually and discover useful insights.\r\n",
        "\r\n"
      ]
    }
  ]
}