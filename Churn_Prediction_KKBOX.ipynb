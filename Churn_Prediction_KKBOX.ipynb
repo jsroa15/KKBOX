{
  "nbformat": 4,
  "nbformat_minor": 0,
  "metadata": {
    "colab": {
      "name": "Churn Prediction KKBOX.ipynb",
      "provenance": [],
      "collapsed_sections": [],
      "toc_visible": true,
      "mount_file_id": "1-l5KmwJOisHNa6iQAs1982rfMiA86Osu",
      "authorship_tag": "ABX9TyOt9CmwwXYZeWUfm0uL3v6c",
      "include_colab_link": true
    },
    "kernelspec": {
      "display_name": "Python 3",
      "name": "python3"
    }
  },
  "cells": [
    {
      "cell_type": "markdown",
      "metadata": {
        "id": "view-in-github",
        "colab_type": "text"
      },
      "source": [
        "<a href=\"https://colab.research.google.com/github/jsroa15/KKBOX/blob/main/Churn_Prediction_KKBOX.ipynb\" target=\"_parent\"><img src=\"https://colab.research.google.com/assets/colab-badge.svg\" alt=\"Open In Colab\"/></a>"
      ]
    },
    {
      "cell_type": "markdown",
      "metadata": {
        "id": "_GiK_q_B00dZ"
      },
      "source": [
        "# **Modeling**\r\n",
        "\r\n",
        "1.  Load libraires\r\n",
        "2.  Load data\r\n",
        "3.  Fixing unbalanced data\r\n",
        "4.  Baseline model and evaluation\r\n",
        "5.  Robust models and evaluation\r\n",
        "6. Understandig results"
      ]
    },
    {
      "cell_type": "markdown",
      "metadata": {
        "id": "4Mzk6_8f1P8i"
      },
      "source": [
        "# **1. Load libraries**"
      ]
    },
    {
      "cell_type": "code",
      "metadata": {
        "id": "-yrHdzKmV8Ps"
      },
      "source": [
        "#Necesary importings\r\n",
        "\r\n",
        "import pandas as pd\r\n",
        "import numpy as np\r\n",
        "import matplotlib.pyplot as plt\r\n",
        "import seaborn as sns\r\n",
        "\r\n",
        "#Machine learning models\r\n",
        "\r\n",
        "from sklearn.linear_model import LogisticRegression\r\n",
        "from sklearn.tree import DecisionTreeClassifier\r\n",
        "from sklearn.ensemble import VotingClassifier\r\n",
        "from sklearn.ensemble import BaggingClassifier\r\n",
        "from sklearn.ensemble import RandomForestClassifier\r\n",
        "from sklearn.ensemble import AdaBoostClassifier\r\n",
        "from sklearn.ensemble import GradientBoostingClassifier\r\n",
        "from sklearn.svm import SVC\r\n",
        "from xgboost import XGBClassifier\r\n",
        "import xgboost as xgb\r\n",
        "from sklearn.naive_bayes import GaussianNB\r\n",
        "\r\n",
        "#Machine learning utilities\r\n",
        "from sklearn.preprocessing import StandardScaler\r\n",
        "from sklearn.model_selection import train_test_split \r\n",
        "from sklearn.model_selection import GridSearchCV\r\n",
        "from sklearn.model_selection import cross_val_score\r\n",
        "from sklearn.model_selection import RandomizedSearchCV\r\n",
        "from sklearn.metrics import classification_report\r\n",
        "from sklearn.metrics import accuracy_score\r\n",
        "from sklearn.metrics import precision_score\r\n",
        "from sklearn.metrics import recall_score\r\n",
        "from sklearn.metrics import f1_score\r\n",
        "from sklearn.metrics import confusion_matrix\r\n",
        "from sklearn.metrics import roc_auc_score"
      ],
      "execution_count": 1,
      "outputs": []
    },
    {
      "cell_type": "markdown",
      "metadata": {
        "id": "oaV33RXN1Xph"
      },
      "source": [
        "# **2. Load Data**"
      ]
    },
    {
      "cell_type": "code",
      "metadata": {
        "id": "ERZbA0ypY0IR"
      },
      "source": [
        "#Loading Data\r\n",
        "\r\n",
        "X_train=pd.read_csv('/content/drive/MyDrive/Colab Notebooks/KKBOX/X_train.csv')\r\n",
        "X_test=pd.read_csv('/content/drive/MyDrive/Colab Notebooks/KKBOX/X_test.csv')\r\n",
        "y_train=pd.read_csv('/content/drive/MyDrive/Colab Notebooks/KKBOX/y_train.csv')\r\n",
        "y_test=pd.read_csv('/content/drive/MyDrive/Colab Notebooks/KKBOX/y_test.csv')\r\n",
        "\r\n"
      ],
      "execution_count": 2,
      "outputs": []
    },
    {
      "cell_type": "markdown",
      "metadata": {
        "id": "ifuFhJ_m1gaL"
      },
      "source": [
        "# **3. Fixing unbalanced data**\r\n",
        "\r\n",
        "The problem with currenta data is that positives classes are really small. Almost 94% of data has negative class (Still subscribed) and only 6% is positive (has Churn).\r\n",
        "\r\n",
        "In classification models that is a problem for model performance. We have less than 1 million on records, we are gonna use oversampling.\r\n",
        "\r\n",
        "Resource: https://www.youtube.com/watch?v=OJedgzdipC0"
      ]
    },
    {
      "cell_type": "code",
      "metadata": {
        "colab": {
          "base_uri": "https://localhost:8080/"
        },
        "id": "bhiMnzIP2E0T",
        "outputId": "8ec9ed0a-30c0-46f0-c475-562bced8fc31"
      },
      "source": [
        "round(y_train.value_counts()/X_train.shape[0]*100,2)"
      ],
      "execution_count": 93,
      "outputs": [
        {
          "output_type": "execute_result",
          "data": {
            "text/plain": [
              "is_churn\n",
              "0           93.4\n",
              "1            6.6\n",
              "dtype: float64"
            ]
          },
          "metadata": {
            "tags": []
          },
          "execution_count": 93
        }
      ]
    },
    {
      "cell_type": "code",
      "metadata": {
        "colab": {
          "base_uri": "https://localhost:8080/"
        },
        "id": "TWlxmejRKrNB",
        "outputId": "bac06d75-2ac4-4f57-a6e2-5aaddd1530f4"
      },
      "source": [
        "#Fixing\r\n",
        "\r\n",
        "from imblearn.over_sampling import RandomOverSampler\r\n",
        "\r\n",
        "os=RandomOverSampler(ratio=1,random_state=123)\r\n",
        "\r\n",
        "X_train_res,y_train_res=os.fit_resample(X_train,y_train)\r\n",
        "\r\n",
        "from collections import Counter\r\n",
        "\r\n",
        "#Checking\r\n",
        "\r\n",
        "\r\n",
        "print(y_train.value_counts())\r\n",
        "print(Counter(y_train_res))"
      ],
      "execution_count": 3,
      "outputs": [
        {
          "output_type": "stream",
          "text": [
            "/usr/local/lib/python3.6/dist-packages/sklearn/externals/six.py:31: FutureWarning: The module is deprecated in version 0.21 and will be removed in version 0.23 since we've dropped support for Python 2.7. Please rely on the official version of six (https://pypi.org/project/six/).\n",
            "  \"(https://pypi.org/project/six/).\", FutureWarning)\n",
            "/usr/local/lib/python3.6/dist-packages/sklearn/utils/deprecation.py:144: FutureWarning: The sklearn.neighbors.base module is  deprecated in version 0.22 and will be removed in version 0.24. The corresponding classes / functions should instead be imported from sklearn.neighbors. Anything that cannot be imported from sklearn.neighbors is now part of the private API.\n",
            "  warnings.warn(message, FutureWarning)\n",
            "/usr/local/lib/python3.6/dist-packages/sklearn/utils/validation.py:760: DataConversionWarning: A column-vector y was passed when a 1d array was expected. Please change the shape of y to (n_samples, ), for example using ravel().\n",
            "  y = column_or_1d(y, warn=True)\n",
            "/usr/local/lib/python3.6/dist-packages/sklearn/utils/deprecation.py:87: FutureWarning: Function safe_indexing is deprecated; safe_indexing is deprecated in version 0.22 and will be removed in version 0.24.\n",
            "  warnings.warn(msg, category=FutureWarning)\n"
          ],
          "name": "stderr"
        },
        {
          "output_type": "stream",
          "text": [
            "is_churn\n",
            "0           655422\n",
            "1            46306\n",
            "dtype: int64\n",
            "Counter({0: 655422, 1: 655422})\n"
          ],
          "name": "stdout"
        }
      ]
    },
    {
      "cell_type": "code",
      "metadata": {
        "id": "NU0M9meFmzOV"
      },
      "source": [
        "#Restoring column names to X_train_res\r\n",
        "\r\n",
        "X_train_res=pd.DataFrame(X_train_res,columns=X_train.columns)\r\n"
      ],
      "execution_count": 4,
      "outputs": []
    },
    {
      "cell_type": "markdown",
      "metadata": {
        "id": "LH9LnX__-sp7"
      },
      "source": [
        "# **4 Baseline Model and Evaluation**\r\n",
        "\r\n",
        "Our baseline model will be a Naive Bayes Classifier"
      ]
    },
    {
      "cell_type": "code",
      "metadata": {
        "id": "YoJnwSp4szr3"
      },
      "source": [
        "#Naive Bayes Classifier\r\n",
        "\r\n",
        "model=GaussianNB()\r\n"
      ],
      "execution_count": 96,
      "outputs": []
    },
    {
      "cell_type": "code",
      "metadata": {
        "id": "Xv-XtELAArhG"
      },
      "source": [
        "def model_performance_classification(model,Xtrain,Ytrain,Xtest,Ytest):\r\n",
        "\r\n",
        "  '''\r\n",
        "  The function calculates metrics as Confusion matrix, AUC, Accuracy, Precision, Recall, F1 Score\r\n",
        "  **Note**: Before running the function it's necessary to intantiate a classification model\r\n",
        "  Parameters\r\n",
        "  ------------------------------\r\n",
        "  model: Classification model created prior to apply function.\r\n",
        "  Xtrain: Your X train dataset\r\n",
        "  Ytrain: Your Y train dataset\r\n",
        "  Xtest: Your X test dataset\r\n",
        "  Ytest: Your Y test dataset\r\n",
        "  '''\r\n",
        "\r\n",
        "  #Fit the model\r\n",
        "\r\n",
        "  model.fit(Xtrain,Ytrain)\r\n",
        "\r\n",
        "  #Make predictions\r\n",
        "\r\n",
        "  y_pred=model.predict(Xtest)\r\n",
        "  y_pred_proba=model.predict_proba(Xtest)[:,1]\r\n",
        "\r\n",
        "  #Printing Metrics\r\n",
        "\r\n",
        "  print('\\nConfusion Matrix')\r\n",
        "  print(confusion_matrix(Ytest, y_pred))\r\n",
        "\r\n",
        "\r\n",
        "  print('\\nScores')\r\n",
        "  print('------------------------')\r\n",
        "  print('AUC:',np.round(roc_auc_score(Ytest,y_pred_proba)*100,2),'%')\r\n",
        "  print('Accuracy:',np.round(accuracy_score(Ytest,y_pred)*100,2),'%')\r\n",
        "  print('Precision:',np.round(precision_score(Ytest,y_pred)*100,2),'%')\r\n",
        "  print('Recall:',np.round(recall_score(Ytest,y_pred)*100,2),'%')\r\n",
        "  print('F1 score:',np.round(f1_score(Ytest,y_pred)*100,2))"
      ],
      "execution_count": 97,
      "outputs": []
    },
    {
      "cell_type": "code",
      "metadata": {
        "colab": {
          "base_uri": "https://localhost:8080/"
        },
        "id": "mIJaqfo6BOiX",
        "outputId": "4489272f-8798-4c6f-b755-1eeeab8568fd"
      },
      "source": [
        "model_performance_classification(model,X_train_res,y_train_res,X_test,y_test)"
      ],
      "execution_count": 98,
      "outputs": [
        {
          "output_type": "stream",
          "text": [
            "\n",
            "Confusion Matrix\n",
            "[[131175  32909]\n",
            " [  3859   7490]]\n",
            "\n",
            "Scores\n",
            "------------------------\n",
            "AUC: 79.68 %\n",
            "Accuracy: 79.04 %\n",
            "Precision: 18.54 %\n",
            "Recall: 66.0 %\n",
            "F1 score: 28.95\n"
          ],
          "name": "stdout"
        }
      ]
    },
    {
      "cell_type": "markdown",
      "metadata": {
        "id": "6kvuTC1bbzzT"
      },
      "source": [
        "Not bad for Naive Bayes Classifier. Now let's explore with robust models."
      ]
    },
    {
      "cell_type": "markdown",
      "metadata": {
        "id": "5CpywUO-cC2m"
      },
      "source": [
        "# **5.Robust Models**"
      ]
    },
    {
      "cell_type": "code",
      "metadata": {
        "id": "s30-qWqIcGtM"
      },
      "source": [
        "#Robust Models\r\n",
        "\r\n",
        "dt=DecisionTreeClassifier(random_state=123)\r\n",
        "rf=RandomForestClassifier(random_state=123)\r\n",
        "#sv=SVC(random_state=123)\r\n",
        "#gb=GradientBoostingClassifier(random_state=123)\r\n",
        "xgbc=XGBClassifier(random_state=123)\r\n",
        "logreg=LogisticRegression(random_state=123)\r\n",
        "\r\n",
        "models={dt:'Decision Tree',xgbc:'Xgboost',rf:'Random Forest'}\r\n"
      ],
      "execution_count": 5,
      "outputs": []
    },
    {
      "cell_type": "code",
      "metadata": {
        "id": "ebi6YytZY5y5"
      },
      "source": [
        "def performance_classification_auc(model_dictionary,Xtrain,ytrain,Xtest,ytest,folds=5):\r\n",
        "  '''\r\n",
        "  The function evaluates the performance of classification models via CV. The base metric is ROC AUC score\r\n",
        "  Parameters\r\n",
        "  ------------\r\n",
        "    model_dictionary: A dictionary that contains as key the instantiate model and as value the model name\r\n",
        "    Xtrain: The X train dataset\r\n",
        "    ytrain: The y train dataset\r\n",
        "    Xtest: The X test dataset\r\n",
        "    ytest: The y test dataset\r\n",
        "    folds: Number of folds to cross-validate. Default 5\r\n",
        "  '''\r\n",
        "  null_list1=[]\r\n",
        "  null_list2=[]\r\n",
        "\r\n",
        "  for key,value in model_dictionary.items():\r\n",
        "    metric=cross_val_score(key,Xtrain,ytrain,cv=folds,scoring='roc_auc')\r\n",
        "    \r\n",
        "    #Store the F1 score from CV\r\n",
        "    metric_mean=round(metric.mean()*100,2)\r\n",
        "\r\n",
        "\r\n",
        "    #Fit and predict\r\n",
        "    key.fit(Xtrain,ytrain)\r\n",
        "    y_pred=key.predict_proba(Xtest)[:,1]\r\n",
        "\r\n",
        "    #Calculate the ROC AUC Score in Test\r\n",
        "    metric_test=round(roc_auc_score(y_test,y_pred)*100,2)\r\n",
        "    null_list1.append(metric_mean)\r\n",
        "    null_list2.append(metric_test)\r\n",
        "\r\n",
        "  index=[x for x in model_dictionary.values()]\r\n",
        "  dff=pd.DataFrame([null_list1,null_list2],index=['ROC AUC Cross Val','ROC AUC Test set']).transpose()\r\n",
        "  dff.index=index\r\n",
        "  print(dff)"
      ],
      "execution_count": 100,
      "outputs": []
    },
    {
      "cell_type": "code",
      "metadata": {
        "colab": {
          "base_uri": "https://localhost:8080/"
        },
        "id": "6LRlsdLRdDlS",
        "outputId": "51514b6f-1200-42c3-a173-d4152eb07f7f"
      },
      "source": [
        "performance_classification_auc(models,X_train_res,y_train_res,X_test,y_test,folds=3)"
      ],
      "execution_count": 101,
      "outputs": [
        {
          "output_type": "stream",
          "text": [
            "               ROC AUC Cross Val  ROC AUC Test set\n",
            "Decision Tree              97.41             69.22\n",
            "Xgboost                    92.65             92.77\n",
            "Random Forest              99.98             94.01\n"
          ],
          "name": "stdout"
        }
      ]
    },
    {
      "cell_type": "markdown",
      "metadata": {
        "id": "8hnTzOhXvHq3"
      },
      "source": [
        "From the above we can conclude that Random Forest has the best performance in Cross Validation and Test.\r\n",
        "\r\n",
        "Now we can perform hyperparameter tuning to improve performance."
      ]
    },
    {
      "cell_type": "markdown",
      "metadata": {
        "id": "ujGYsLMujGsr"
      },
      "source": [
        "# **6.Understanding Results**\r\n",
        "\r\n",
        "Let's see the main features that affect if customers decide to continue with subscription or churn."
      ]
    },
    {
      "cell_type": "code",
      "metadata": {
        "id": "QP3x1FcdjD4k"
      },
      "source": [
        "#Extracting feature importance\r\n",
        "\r\n",
        "feature_importance=rf.feature_importances_\r\n",
        "feature_importance=pd.DataFrame({'Feature_Importance':feature_importance},index=X_train_res.columns)\r\n",
        "\r\n",
        "feature_importance.sort_values(by='Feature_Importance',ascending=False,inplace=True)\r\n",
        "feature_importance=feature_importance.reset_index()"
      ],
      "execution_count": 55,
      "outputs": []
    },
    {
      "cell_type": "code",
      "metadata": {
        "colab": {
          "base_uri": "https://localhost:8080/",
          "height": 713
        },
        "id": "8W4axoJxlq8G",
        "outputId": "37722d37-35e7-48f6-b940-f6f20ef670cd"
      },
      "source": [
        "\r\n",
        "fig=plt.figure(figsize=(15,10))\r\n",
        "sns.set_style(\"whitegrid\")\r\n",
        "sns.barplot(data=feature_importance,x='index',y='Feature_Importance')\r\n",
        "plt.xticks(rotation='vertical')\r\n",
        "plt.show()"
      ],
      "execution_count": 62,
      "outputs": [
        {
          "output_type": "display_data",
          "data": {
            "image/png": "[encoded data removed]",
            "text/plain": [
              "<Figure size 1080x720 with 1 Axes>"
            ]
          },
          "metadata": {
            "tags": []
          }
        }
      ]
    },
    {
      "cell_type": "markdown",
      "metadata": {
        "id": "AlBUXHIrrloz"
      },
      "source": [
        "From the above, the features that have most predictive power are:       ```regist_cancels  is_auto_renew  regist_trans  revenue tenure```\r\n",
        "\r\n",
        "\r\n"
      ]
    }
  ]
}